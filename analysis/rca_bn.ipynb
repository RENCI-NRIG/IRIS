{
 "cells": [
  {
   "cell_type": "code",
   "execution_count": 2,
   "metadata": {},
   "outputs": [],
   "source": [
    "import numpy as np\n",
    "import pandas as pd\n",
    "import seaborn as sns\n",
    "import matplotlib.pyplot as plt"
   ]
  },
  {
   "cell_type": "code",
   "execution_count": 3,
   "metadata": {},
   "outputs": [],
   "source": [
    "input_file = \"output_20200219_2125PM.csv\" #complete\n",
    "#input_file = \"output_20191116_1256PM.csv\" #partial\n",
    "df = pd.read_csv(input_file, header = 0)\n",
    "df['FLOW'] = df['SRCNODE']+'-'+df['DESTNODE']\n",
    "df['FM']=df['FAILURE']+df['MISSING']\n",
    "df_failure = df[ (df.FM==1)]"
   ]
  },
  {
   "cell_type": "code",
   "execution_count": 4,
   "metadata": {},
   "outputs": [],
   "source": [
    "df_dummy = pd.get_dummies(df_failure[['SRCNODE', 'DESTNODE','FM','RETRIES','LABEL']], prefix=['SRC', 'DEST'], columns=['SRCNODE', 'DESTNODE'])\n",
    "y=df_failure['LABEL']\n",
    "x=df_dummy.drop(['LABEL'],axis=1)"
   ]
  },
  {
   "cell_type": "code",
   "execution_count": 5,
   "metadata": {},
   "outputs": [],
   "source": [
    "from sklearn.model_selection import train_test_split\n",
    "from sklearn.naive_bayes import GaussianNB\n",
    "from sklearn.naive_bayes import MultinomialNB\n",
    "from sklearn.metrics import confusion_matrix\n",
    "from sklearn.utils.multiclass import unique_labels\n",
    "from sklearn.model_selection import cross_val_score\n",
    "from sklearn.multiclass import OneVsOneClassifier"
   ]
  },
  {
   "cell_type": "code",
   "execution_count": 6,
   "metadata": {},
   "outputs": [
    {
     "name": "stdout",
     "output_type": "stream",
     "text": [
      "CPU times: user 183 ms, sys: 17 ms, total: 200 ms\n",
      "Wall time: 181 ms\n"
     ]
    },
    {
     "data": {
      "text/plain": [
       "MultinomialNB(alpha=1.0, class_prior=None, fit_prior=True)"
      ]
     },
     "execution_count": 6,
     "metadata": {},
     "output_type": "execute_result"
    }
   ],
   "source": [
    "%%time\n",
    "clf_mn = MultinomialNB()\n",
    "clf_mn.fit(x,y)"
   ]
  },
  {
   "cell_type": "code",
   "execution_count": 7,
   "metadata": {},
   "outputs": [
    {
     "name": "stdout",
     "output_type": "stream",
     "text": [
      "CPU times: user 100 ms, sys: 6.7 ms, total: 107 ms\n",
      "Wall time: 106 ms\n"
     ]
    },
    {
     "data": {
      "text/plain": [
       "GaussianNB(priors=None, var_smoothing=1e-09)"
      ]
     },
     "execution_count": 7,
     "metadata": {},
     "output_type": "execute_result"
    }
   ],
   "source": [
    "%%time\n",
    "clf_gs = GaussianNB()\n",
    "clf_gs.fit(x,y)"
   ]
  },
  {
   "cell_type": "code",
   "execution_count": 8,
   "metadata": {},
   "outputs": [
    {
     "data": {
      "text/plain": [
       "(32509,)"
      ]
     },
     "execution_count": 8,
     "metadata": {},
     "output_type": "execute_result"
    }
   ],
   "source": [
    "pred=clf_mn.predict(x)\n",
    "pred.shape"
   ]
  },
  {
   "cell_type": "code",
   "execution_count": 8,
   "metadata": {},
   "outputs": [
    {
     "name": "stdout",
     "output_type": "stream",
     "text": [
      "['OriginSDSC_Link17' 'StarLight_Link7' 'CacheStarLightRouter_Link25' ...\n",
      " 'OriginCal_Link23' 'OriginCal_Link23' 'OriginCal_Link23']\n"
     ]
    }
   ],
   "source": [
    "print(pred)"
   ]
  },
  {
   "cell_type": "code",
   "execution_count": 9,
   "metadata": {},
   "outputs": [
    {
     "data": {
      "text/plain": [
       "array(['CENIC_Link0', 'CENIC_Link1', 'CENIC_Link5', 'CENIC_Link9',\n",
       "       'CacheCENICRouter_Link18', 'CacheCENICRouter_Link19',\n",
       "       'CacheCENICRouter_Link4', 'CacheCal', 'CacheCal_Link19',\n",
       "       'CacheFNAL', 'CacheFNAL_Link26', 'CacheNY', 'CacheNYRouter_Link27',\n",
       "       'CacheNYRouter_Link28', 'CacheNY_Link28', 'CacheSDSC',\n",
       "       'CacheSDSC_Link18', 'CacheStarLightRouter_Link24',\n",
       "       'CacheStarLightRouter_Link25', 'CacheStarLightRouter_Link26',\n",
       "       'CacheUC', 'CacheUC_Link25', 'CacheUNL', 'CacheUNLRouter_Link20',\n",
       "       'CacheUNLRouter_Link3', 'CacheUNL_Link20', 'ESNET_Link1',\n",
       "       'ESNET_Link2', 'ESNET_Link22', 'ESNET_Link4', 'ESNET_Link7',\n",
       "       'I2_Link0', 'I2_Link13', 'I2_Link14', 'I2_Link2', 'I2_Link27',\n",
       "       'I2_Link3', 'I2_Link6', 'OriginCal', 'OriginCalRouter_Link22',\n",
       "       'OriginCalRouter_Link23', 'OriginCal_Link23', 'OriginFNAL',\n",
       "       'OriginFNAL_Link21', 'OriginNCSA', 'OriginNCSARouter_Link13',\n",
       "       'OriginNCSARouter_Link15', 'OriginNCSA_Link15', 'OriginSDSC',\n",
       "       'OriginSDSCRouter_Link17', 'OriginSDSCRouter_Link5',\n",
       "       'OriginSDSC_Link17', 'OriginStarLightRouter_Link10',\n",
       "       'OriginStarLightRouter_Link11', 'OriginStarLightRouter_Link21',\n",
       "       'OriginUC', 'OriginUC_Link11', 'OriginUNL',\n",
       "       'OriginUNLRouter_Link14', 'OriginUNLRouter_Link16',\n",
       "       'OriginUNL_Link16', 'StarLight_Link10', 'StarLight_Link24',\n",
       "       'StarLight_Link6', 'StarLight_Link7', 'StarLight_Link9'],\n",
       "      dtype='<U28')"
      ]
     },
     "execution_count": 9,
     "metadata": {},
     "output_type": "execute_result"
    }
   ],
   "source": [
    "clf_mn.classes_"
   ]
  },
  {
   "cell_type": "code",
   "execution_count": 10,
   "metadata": {},
   "outputs": [],
   "source": [
    "def accuracy(model, test_data, classes, k):\n",
    "    if(k==0): return null,null\n",
    "    num = classes.size\n",
    "    correct=0\n",
    "    for label in classes:\n",
    "        label_pred=[]\n",
    "        isCorrect=False\n",
    "        test_data_1=test_data[test_data.LABEL==label]\n",
    "        x_test_1=test_data_1.drop(['LABEL'],axis=1)\n",
    "        test_prob_1 = model.predict_proba(x_test_1)\n",
    "        label_array=test_prob_1.mean(axis=0)\n",
    "        #label_array=np.nanmean(np.where(test_rf_prob_1!=0,test_rf_prob_1,np.nan),0)\n",
    "        label_index = label_array.argmax()\n",
    "        label_index_sort = label_array.argsort()\n",
    "        #label_pred[0] = classes[label_index]\n",
    "        for j in range(0,k): \n",
    "            if(j==0):\n",
    "                label_pred.append(classes[label_index])\n",
    "            else:\n",
    "                label_pred.append(classes[label_index_sort[(-1)*j-1]])\n",
    "            print(j,label_pred[j],label)\n",
    "            if(label==label_pred[j]):\n",
    "                isCorrect=True\n",
    "                break\n",
    "               \n",
    "        print(label_pred)\n",
    "        print(isCorrect)\n",
    "        if isCorrect:\n",
    "            correct=correct+1\n",
    "    return correct, correct/num"
   ]
  },
  {
   "cell_type": "code",
   "execution_count": 12,
   "metadata": {},
   "outputs": [
    {
     "name": "stdout",
     "output_type": "stream",
     "text": [
      "0 OriginSDSC_Link17 CENIC_Link0\n",
      "1 OriginSDSCRouter_Link5 CENIC_Link0\n",
      "2 CENIC_Link5 CENIC_Link0\n",
      "['OriginSDSC_Link17', 'OriginSDSCRouter_Link5', 'CENIC_Link5']\n",
      "False\n",
      "0 OriginSDSC_Link17 CENIC_Link1\n",
      "1 OriginSDSCRouter_Link5 CENIC_Link1\n",
      "2 CENIC_Link1 CENIC_Link1\n",
      "['OriginSDSC_Link17', 'OriginSDSCRouter_Link5', 'CENIC_Link1']\n",
      "True\n",
      "0 CENIC_Link5 CENIC_Link5\n",
      "['CENIC_Link5']\n",
      "True\n",
      "0 OriginSDSC_Link17 CENIC_Link9\n",
      "1 OriginSDSCRouter_Link5 CENIC_Link9\n",
      "2 CENIC_Link9 CENIC_Link9\n",
      "['OriginSDSC_Link17', 'OriginSDSCRouter_Link5', 'CENIC_Link9']\n",
      "True\n",
      "0 ESNET_Link4 CacheCENICRouter_Link18\n",
      "1 CacheCENICRouter_Link18 CacheCENICRouter_Link18\n",
      "['ESNET_Link4', 'CacheCENICRouter_Link18']\n",
      "True\n",
      "0 ESNET_Link4 CacheCENICRouter_Link19\n",
      "1 CacheCENICRouter_Link4 CacheCENICRouter_Link19\n",
      "2 CacheCENICRouter_Link19 CacheCENICRouter_Link19\n",
      "['ESNET_Link4', 'CacheCENICRouter_Link4', 'CacheCENICRouter_Link19']\n",
      "True\n",
      "0 CacheCENICRouter_Link4 CacheCENICRouter_Link4\n",
      "['CacheCENICRouter_Link4']\n",
      "True\n",
      "0 ESNET_Link4 CacheCal\n",
      "1 CacheCENICRouter_Link19 CacheCal\n",
      "2 I2_Link2 CacheCal\n",
      "['ESNET_Link4', 'CacheCENICRouter_Link19', 'I2_Link2']\n",
      "False\n",
      "0 CacheCal_Link19 CacheCal_Link19\n",
      "['CacheCal_Link19']\n",
      "True\n",
      "0 StarLight_Link24 CacheFNAL\n",
      "1 CacheFNAL_Link26 CacheFNAL\n",
      "2 StarLight_Link7 CacheFNAL\n",
      "['StarLight_Link24', 'CacheFNAL_Link26', 'StarLight_Link7']\n",
      "False\n",
      "0 CacheFNAL_Link26 CacheFNAL_Link26\n",
      "['CacheFNAL_Link26']\n",
      "True\n",
      "0 CacheNYRouter_Link28 CacheNY\n",
      "1 OriginStarLightRouter_Link21 CacheNY\n",
      "2 StarLight_Link6 CacheNY\n",
      "['CacheNYRouter_Link28', 'OriginStarLightRouter_Link21', 'StarLight_Link6']\n",
      "False\n",
      "0 CacheNYRouter_Link27 CacheNYRouter_Link27\n",
      "['CacheNYRouter_Link27']\n",
      "True\n",
      "0 CacheNYRouter_Link28 CacheNYRouter_Link28\n",
      "['CacheNYRouter_Link28']\n",
      "True\n",
      "0 CacheNY_Link28 CacheNY_Link28\n",
      "['CacheNY_Link28']\n",
      "True\n",
      "0 ESNET_Link4 CacheSDSC\n",
      "1 CacheCENICRouter_Link18 CacheSDSC\n",
      "2 I2_Link2 CacheSDSC\n",
      "['ESNET_Link4', 'CacheCENICRouter_Link18', 'I2_Link2']\n",
      "False\n",
      "0 CacheSDSC_Link18 CacheSDSC_Link18\n",
      "['CacheSDSC_Link18']\n",
      "True\n",
      "0 CacheStarLightRouter_Link24 CacheStarLightRouter_Link24\n",
      "['CacheStarLightRouter_Link24']\n",
      "True\n",
      "0 CacheStarLightRouter_Link25 CacheStarLightRouter_Link25\n",
      "['CacheStarLightRouter_Link25']\n",
      "True\n",
      "0 StarLight_Link24 CacheStarLightRouter_Link26\n",
      "1 CacheFNAL_Link26 CacheStarLightRouter_Link26\n",
      "2 StarLight_Link7 CacheStarLightRouter_Link26\n",
      "['StarLight_Link24', 'CacheFNAL_Link26', 'StarLight_Link7']\n",
      "False\n",
      "0 CacheStarLightRouter_Link25 CacheUC\n",
      "1 StarLight_Link7 CacheUC\n",
      "2 StarLight_Link24 CacheUC\n",
      "['CacheStarLightRouter_Link25', 'StarLight_Link7', 'StarLight_Link24']\n",
      "False\n",
      "0 CacheUC_Link25 CacheUC_Link25\n",
      "['CacheUC_Link25']\n",
      "True\n",
      "0 I2_Link27 CacheUNL\n",
      "1 StarLight_Link24 CacheUNL\n",
      "2 CacheUNLRouter_Link20 CacheUNL\n",
      "['I2_Link27', 'StarLight_Link24', 'CacheUNLRouter_Link20']\n",
      "False\n",
      "0 I2_Link27 CacheUNLRouter_Link20\n",
      "1 StarLight_Link24 CacheUNLRouter_Link20\n",
      "2 CacheUNLRouter_Link20 CacheUNLRouter_Link20\n",
      "['I2_Link27', 'StarLight_Link24', 'CacheUNLRouter_Link20']\n",
      "True\n",
      "0 CacheUNLRouter_Link3 CacheUNLRouter_Link3\n",
      "['CacheUNLRouter_Link3']\n",
      "True\n",
      "0 I2_Link27 CacheUNL_Link20\n",
      "1 CacheUNL_Link20 CacheUNL_Link20\n",
      "['I2_Link27', 'CacheUNL_Link20']\n",
      "True\n",
      "0 OriginSDSCRouter_Link17 ESNET_Link1\n",
      "1 ESNET_Link1 ESNET_Link1\n",
      "['OriginSDSCRouter_Link17', 'ESNET_Link1']\n",
      "True\n",
      "0 ESNET_Link2 ESNET_Link2\n",
      "['ESNET_Link2']\n",
      "True\n",
      "0 ESNET_Link22 ESNET_Link22\n",
      "['ESNET_Link22']\n",
      "True\n",
      "0 ESNET_Link4 ESNET_Link4\n",
      "['ESNET_Link4']\n",
      "True\n",
      "0 ESNET_Link7 ESNET_Link7\n",
      "['ESNET_Link7']\n",
      "True\n",
      "0 OriginSDSCRouter_Link17 I2_Link0\n",
      "1 I2_Link0 I2_Link0\n",
      "['OriginSDSCRouter_Link17', 'I2_Link0']\n",
      "True\n",
      "0 OriginNCSARouter_Link15 I2_Link13\n",
      "1 I2_Link13 I2_Link13\n",
      "['OriginNCSARouter_Link15', 'I2_Link13']\n",
      "True\n",
      "0 I2_Link14 I2_Link14\n",
      "['I2_Link14']\n",
      "True\n",
      "0 I2_Link2 I2_Link2\n",
      "['I2_Link2']\n",
      "True\n",
      "0 I2_Link27 I2_Link27\n",
      "['I2_Link27']\n",
      "True\n",
      "0 I2_Link27 I2_Link3\n",
      "1 I2_Link3 I2_Link3\n",
      "['I2_Link27', 'I2_Link3']\n",
      "True\n",
      "0 I2_Link6 I2_Link6\n",
      "['I2_Link6']\n",
      "True\n",
      "0 ESNET_Link22 OriginCal\n",
      "1 ESNET_Link4 OriginCal\n",
      "2 OriginCalRouter_Link23 OriginCal\n",
      "['ESNET_Link22', 'ESNET_Link4', 'OriginCalRouter_Link23']\n",
      "False\n",
      "0 OriginNCSA_Link15 OriginCalRouter_Link22\n",
      "1 OriginCalRouter_Link22 OriginCalRouter_Link22\n",
      "['OriginNCSA_Link15', 'OriginCalRouter_Link22']\n",
      "True\n",
      "0 ESNET_Link22 OriginCalRouter_Link23\n",
      "1 ESNET_Link4 OriginCalRouter_Link23\n",
      "2 OriginCalRouter_Link23 OriginCalRouter_Link23\n",
      "['ESNET_Link22', 'ESNET_Link4', 'OriginCalRouter_Link23']\n",
      "True\n",
      "0 OriginCal_Link23 OriginCal_Link23\n",
      "['OriginCal_Link23']\n",
      "True\n",
      "0 StarLight_Link10 OriginFNAL\n",
      "1 OriginStarLightRouter_Link21 OriginFNAL\n",
      "2 I2_Link6 OriginFNAL\n",
      "['StarLight_Link10', 'OriginStarLightRouter_Link21', 'I2_Link6']\n",
      "False\n",
      "0 OriginFNAL_Link21 OriginFNAL_Link21\n",
      "['OriginFNAL_Link21']\n",
      "True\n",
      "0 OriginNCSARouter_Link15 OriginNCSA\n",
      "1 I2_Link13 OriginNCSA\n",
      "2 CENIC_Link5 OriginNCSA\n",
      "['OriginNCSARouter_Link15', 'I2_Link13', 'CENIC_Link5']\n",
      "False\n",
      "0 OriginNCSARouter_Link13 OriginNCSARouter_Link13\n",
      "['OriginNCSARouter_Link13']\n",
      "True\n",
      "0 OriginNCSARouter_Link15 OriginNCSARouter_Link15\n",
      "['OriginNCSARouter_Link15']\n",
      "True\n",
      "0 OriginNCSA_Link15 OriginNCSA_Link15\n",
      "['OriginNCSA_Link15']\n",
      "True\n",
      "0 OriginSDSCRouter_Link17 OriginSDSC\n",
      "1 CENIC_Link5 OriginSDSC\n",
      "2 StarLight_Link9 OriginSDSC\n",
      "['OriginSDSCRouter_Link17', 'CENIC_Link5', 'StarLight_Link9']\n",
      "False\n",
      "0 OriginSDSCRouter_Link17 OriginSDSCRouter_Link17\n",
      "['OriginSDSCRouter_Link17']\n",
      "True\n",
      "0 OriginSDSC_Link17 OriginSDSCRouter_Link5\n",
      "1 OriginSDSCRouter_Link5 OriginSDSCRouter_Link5\n",
      "['OriginSDSC_Link17', 'OriginSDSCRouter_Link5']\n",
      "True\n",
      "0 OriginSDSC_Link17 OriginSDSC_Link17\n",
      "['OriginSDSC_Link17']\n",
      "True\n",
      "0 OriginStarLightRouter_Link10 OriginStarLightRouter_Link10\n",
      "['OriginStarLightRouter_Link10']\n",
      "True\n",
      "0 OriginStarLightRouter_Link11 OriginStarLightRouter_Link11\n",
      "['OriginStarLightRouter_Link11']\n",
      "True\n",
      "0 OriginStarLightRouter_Link21 OriginStarLightRouter_Link21\n",
      "['OriginStarLightRouter_Link21']\n",
      "True\n",
      "0 OriginStarLightRouter_Link11 OriginUC\n",
      "1 StarLight_Link10 OriginUC\n",
      "2 OriginUC_Link11 OriginUC\n",
      "['OriginStarLightRouter_Link11', 'StarLight_Link10', 'OriginUC_Link11']\n",
      "False\n",
      "0 OriginUC_Link11 OriginUC_Link11\n",
      "['OriginUC_Link11']\n",
      "True\n",
      "0 I2_Link14 OriginUNL\n",
      "1 OriginUNLRouter_Link16 OriginUNL\n",
      "2 StarLight_Link6 OriginUNL\n",
      "['I2_Link14', 'OriginUNLRouter_Link16', 'StarLight_Link6']\n",
      "False\n",
      "0 OriginUNL_Link16 OriginUNLRouter_Link14\n",
      "1 OriginUNLRouter_Link14 OriginUNLRouter_Link14\n",
      "['OriginUNL_Link16', 'OriginUNLRouter_Link14']\n",
      "True\n",
      "0 I2_Link14 OriginUNLRouter_Link16\n",
      "1 OriginUNLRouter_Link16 OriginUNLRouter_Link16\n",
      "['I2_Link14', 'OriginUNLRouter_Link16']\n",
      "True\n",
      "0 OriginUNL_Link16 OriginUNL_Link16\n",
      "['OriginUNL_Link16']\n",
      "True\n",
      "0 StarLight_Link10 StarLight_Link10\n",
      "['StarLight_Link10']\n",
      "True\n",
      "0 StarLight_Link24 StarLight_Link24\n",
      "['StarLight_Link24']\n",
      "True\n",
      "0 StarLight_Link6 StarLight_Link6\n",
      "['StarLight_Link6']\n",
      "True\n",
      "0 StarLight_Link7 StarLight_Link7\n",
      "['StarLight_Link7']\n",
      "True\n",
      "0 OriginSDSCRouter_Link17 StarLight_Link9\n",
      "1 StarLight_Link9 StarLight_Link9\n",
      "['OriginSDSCRouter_Link17', 'StarLight_Link9']\n",
      "True\n"
     ]
    },
    {
     "data": {
      "text/plain": [
       "(52, 0.7878787878787878)"
      ]
     },
     "execution_count": 12,
     "metadata": {},
     "output_type": "execute_result"
    }
   ],
   "source": [
    "c,r=accuracy(clf_mn, df_dummy, clf_mn.classes_,3)\n",
    "c,r"
   ]
  },
  {
   "cell_type": "code",
   "execution_count": 9,
   "metadata": {},
   "outputs": [],
   "source": [
    "from sklearn.metrics import multilabel_confusion_matrix,balanced_accuracy_score,f1_score"
   ]
  },
  {
   "cell_type": "code",
   "execution_count": 10,
   "metadata": {},
   "outputs": [
    {
     "data": {
      "text/plain": [
       "0.22186410410776125"
      ]
     },
     "execution_count": 10,
     "metadata": {},
     "output_type": "execute_result"
    }
   ],
   "source": [
    "balanced_accuracy_score(y, pred)"
   ]
  },
  {
   "cell_type": "code",
   "execution_count": 12,
   "metadata": {},
   "outputs": [
    {
     "name": "stdout",
     "output_type": "stream",
     "text": [
      "0.22186410410776125\n"
     ]
    },
    {
     "name": "stderr",
     "output_type": "stream",
     "text": [
      "/Users/yxin/anaconda3/lib/python3.7/site-packages/sklearn/metrics/classification.py:1437: UndefinedMetricWarning: F-score is ill-defined and being set to 0.0 in labels with no predicted samples.\n",
      "  'precision', 'predicted', average, warn_for)\n"
     ]
    },
    {
     "data": {
      "text/plain": [
       "0.33821890912354097"
      ]
     },
     "execution_count": 12,
     "metadata": {},
     "output_type": "execute_result"
    }
   ],
   "source": [
    "y_pred_rf = clf_mn.predict(x)\n",
    "print(balanced_accuracy_score(y, y_pred_rf))\n",
    "f1_score(y, y_pred_rf,average='weighted')"
   ]
  },
  {
   "cell_type": "code",
   "execution_count": null,
   "metadata": {},
   "outputs": [],
   "source": []
  }
 ],
 "metadata": {
  "kernelspec": {
   "display_name": "Python 3",
   "language": "python",
   "name": "python3"
  },
  "language_info": {
   "codemirror_mode": {
    "name": "ipython",
    "version": 3
   },
   "file_extension": ".py",
   "mimetype": "text/x-python",
   "name": "python",
   "nbconvert_exporter": "python",
   "pygments_lexer": "ipython3",
   "version": "3.7.4"
  }
 },
 "nbformat": 4,
 "nbformat_minor": 2
}
