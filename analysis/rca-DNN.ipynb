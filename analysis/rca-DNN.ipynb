{
 "cells": [
  {
   "cell_type": "code",
   "execution_count": 10,
   "metadata": {},
   "outputs": [],
   "source": [
    "import numpy as np\n",
    "import pandas as pd\n",
    "import seaborn as sns\n",
    "import matplotlib.pyplot as plt\n",
    "from sklearn.neural_network import MLPClassifier"
   ]
  },
  {
   "cell_type": "code",
   "execution_count": 14,
   "metadata": {},
   "outputs": [],
   "source": [
    "input_file = \"output_20200219_2125PM.csv\" #complete\n",
    "#input_file = \"output_20191116_1256PM.csv\" #partial\n",
    "df = pd.read_csv(input_file, header = 0)\n",
    "df['FLOW'] = df['SRCNODE']+'-'+df['DESTNODE']\n",
    "df['FM']=df['FAILURE']+df['MISSING']\n",
    "df_failure = df[ (df.FM==1)]\n",
    "\n",
    "df_dummy = pd.get_dummies(df_failure[['SRCNODE', 'DESTNODE','SRC_R','DEST_S','FM','RETRIES','LABEL']], prefix=['SRC', 'DEST','SRC_R','DEST_S'], columns=['SRCNODE', 'DESTNODE','SRC_R','DEST_S'])\n",
    "y=df_failure['LABEL']\n",
    "x=df_dummy.drop(['LABEL'],axis=1)"
   ]
  },
  {
   "cell_type": "code",
   "execution_count": 15,
   "metadata": {},
   "outputs": [],
   "source": [
    "#from sklearn.preprocessing import StandardScaler \n",
    "#scaler = StandardScaler()\n",
    "#scaler.fit(x)\n",
    "#x = scaler.transform(x)"
   ]
  },
  {
   "cell_type": "code",
   "execution_count": 16,
   "metadata": {},
   "outputs": [
    {
     "data": {
      "text/plain": [
       "32509"
      ]
     },
     "execution_count": 16,
     "metadata": {},
     "output_type": "execute_result"
    }
   ],
   "source": [
    "x.shape[0]"
   ]
  },
  {
   "cell_type": "code",
   "execution_count": 39,
   "metadata": {},
   "outputs": [],
   "source": [
    "clf = MLPClassifier(solver='lbfgs', alpha=1e-10,hidden_layer_sizes=(10,5), random_state=1)"
   ]
  },
  {
   "cell_type": "code",
   "execution_count": 40,
   "metadata": {},
   "outputs": [
    {
     "name": "stdout",
     "output_type": "stream",
     "text": [
      "CPU times: user 45.8 s, sys: 1.66 s, total: 47.5 s\n",
      "Wall time: 12.1 s\n"
     ]
    },
    {
     "data": {
      "text/plain": [
       "MLPClassifier(activation='relu', alpha=1e-10, batch_size='auto', beta_1=0.9,\n",
       "              beta_2=0.999, early_stopping=False, epsilon=1e-08,\n",
       "              hidden_layer_sizes=(10, 5), learning_rate='constant',\n",
       "              learning_rate_init=0.001, max_iter=200, momentum=0.9,\n",
       "              n_iter_no_change=10, nesterovs_momentum=True, power_t=0.5,\n",
       "              random_state=1, shuffle=True, solver='lbfgs', tol=0.0001,\n",
       "              validation_fraction=0.1, verbose=False, warm_start=False)"
      ]
     },
     "execution_count": 40,
     "metadata": {},
     "output_type": "execute_result"
    }
   ],
   "source": [
    "%%time\n",
    "clf.fit(x, y)"
   ]
  },
  {
   "cell_type": "code",
   "execution_count": 32,
   "metadata": {},
   "outputs": [],
   "source": [
    "from sklearn.metrics import multilabel_confusion_matrix,balanced_accuracy_score,f1_score"
   ]
  },
  {
   "cell_type": "code",
   "execution_count": 41,
   "metadata": {},
   "outputs": [],
   "source": [
    "pred=clf.predict(x)\n",
    "#print(clf.predict_proba(x))"
   ]
  },
  {
   "cell_type": "code",
   "execution_count": 42,
   "metadata": {},
   "outputs": [
    {
     "data": {
      "text/plain": [
       "0.1908630126696316"
      ]
     },
     "execution_count": 42,
     "metadata": {},
     "output_type": "execute_result"
    }
   ],
   "source": [
    "balanced_accuracy_score(y, pred)"
   ]
  },
  {
   "cell_type": "code",
   "execution_count": 43,
   "metadata": {},
   "outputs": [
    {
     "name": "stderr",
     "output_type": "stream",
     "text": [
      "/Users/yxin/anaconda3/lib/python3.7/site-packages/sklearn/metrics/classification.py:1437: UndefinedMetricWarning: F-score is ill-defined and being set to 0.0 in labels with no predicted samples.\n",
      "  'precision', 'predicted', average, warn_for)\n"
     ]
    },
    {
     "data": {
      "text/plain": [
       "0.2724583633304553"
      ]
     },
     "execution_count": 43,
     "metadata": {},
     "output_type": "execute_result"
    }
   ],
   "source": [
    "f1_score(y, pred,average='weighted')"
   ]
  },
  {
   "cell_type": "code",
   "execution_count": 36,
   "metadata": {},
   "outputs": [],
   "source": [
    "def accuracy(model, test_data, classes, k):\n",
    "    if(k==0): return null,null\n",
    "    num = classes.size\n",
    "    correct=0\n",
    "    for label in classes:\n",
    "        label_pred=[]\n",
    "        isCorrect=False\n",
    "        test_data_1=test_data[test_data.LABEL==label]\n",
    "        if test_data_1.shape[0]==0:\n",
    "            print(\"No match\")\n",
    "            continue\n",
    "        x_test_1=test_data_1.drop(['LABEL'],axis=1)\n",
    "        #scaler = StandardScaler()\n",
    "        #scaler.fit(x_test_1)\n",
    "        #x_test_1 = scaler.transform(x_test_1)\n",
    "        test_prob_1 = model.predict_proba(x_test_1)\n",
    "        label_array=test_prob_1.mean(axis=0)\n",
    "        #label_array=np.nanmean(np.where(test_rf_prob_1!=0,test_rf_prob_1,np.nan),0)\n",
    "        label_index = label_array.argmax()\n",
    "        label_index_sort = label_array.argsort()\n",
    "        #print(classes[label_index])\n",
    "        #label_pred[0] = classes[label_index]\n",
    "        for j in range(0,k): \n",
    "            if(j==0):\n",
    "                label_pred.append(classes[label_index])\n",
    "            else:\n",
    "                label_pred.append(classes[label_index_sort[(-1)*j-1]])\n",
    "            #print(j,label_pred[j],label)\n",
    "            if(label==label_pred[j]):\n",
    "                isCorrect=True\n",
    "                break\n",
    "               \n",
    "        #print(label_pred)\n",
    "        #print(isCorrect)\n",
    "        if isCorrect:\n",
    "            correct=correct+1\n",
    "    return correct, correct/num"
   ]
  },
  {
   "cell_type": "code",
   "execution_count": 44,
   "metadata": {},
   "outputs": [
    {
     "data": {
      "text/plain": [
       "(46, 0.696969696969697)"
      ]
     },
     "execution_count": 44,
     "metadata": {},
     "output_type": "execute_result"
    }
   ],
   "source": [
    "c,r=accuracy(clf, df_dummy, clf.classes_,3)\n",
    "c,r"
   ]
  },
  {
   "cell_type": "code",
   "execution_count": 28,
   "metadata": {},
   "outputs": [],
   "source": [
    "test_file = \"output_20191008_0336AM.csv\" #complete\n",
    "#test_file = \"big.csv\" #partial\n",
    "test_df = pd.read_csv(test_file, header = 0)\n",
    "test_df['FLOW'] = test_df['SRCNODE']+'-'+test_df['DESTNODE']\n",
    "test_df['FM']=test_df['FAILURE']+test_df['MISSING']\n",
    "test_df_failure = test_df[ (test_df.FM==1)]\n",
    "\n",
    "test_df_dummy = pd.get_dummies(test_df_failure[['SRCNODE', 'DESTNODE','SRC_R','DEST_S','FM','RETRIES','LABEL']], prefix=['SRC', 'DEST','SRC_R','DEST_S'], columns=['SRCNODE', 'DESTNODE','SRC_R','DEST_S'])\n",
    "test_y=test_df_failure['LABEL']\n",
    "test_x=test_df_dummy.drop(['LABEL'],axis=1)"
   ]
  },
  {
   "cell_type": "code",
   "execution_count": 45,
   "metadata": {},
   "outputs": [
    {
     "name": "stdout",
     "output_type": "stream",
     "text": [
      "No match\n",
      "No match\n",
      "No match\n",
      "No match\n",
      "No match\n",
      "CPU times: user 1.01 s, sys: 10.6 ms, total: 1.02 s\n",
      "Wall time: 259 ms\n"
     ]
    },
    {
     "data": {
      "text/plain": [
       "(32, 0.48484848484848486)"
      ]
     },
     "execution_count": 45,
     "metadata": {},
     "output_type": "execute_result"
    }
   ],
   "source": [
    "%%time\n",
    "c,r=accuracy(clf, test_df_dummy, clf.classes_,3)\n",
    "c,r"
   ]
  },
  {
   "cell_type": "code",
   "execution_count": null,
   "metadata": {},
   "outputs": [],
   "source": []
  }
 ],
 "metadata": {
  "kernelspec": {
   "display_name": "Python 3",
   "language": "python",
   "name": "python3"
  },
  "language_info": {
   "codemirror_mode": {
    "name": "ipython",
    "version": 3
   },
   "file_extension": ".py",
   "mimetype": "text/x-python",
   "name": "python",
   "nbconvert_exporter": "python",
   "pygments_lexer": "ipython3",
   "version": "3.7.4"
  }
 },
 "nbformat": 4,
 "nbformat_minor": 2
}
