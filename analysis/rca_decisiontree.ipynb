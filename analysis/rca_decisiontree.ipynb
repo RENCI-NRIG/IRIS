{
 "cells": [
  {
   "cell_type": "code",
   "execution_count": 1,
   "metadata": {},
   "outputs": [],
   "source": [
    "import numpy as np\n",
    "import pandas as pd\n",
    "import seaborn as sns\n",
    "import matplotlib.pyplot as plt\n",
    "from collections import Counter"
   ]
  },
  {
   "cell_type": "code",
   "execution_count": 3,
   "metadata": {},
   "outputs": [],
   "source": [
    "#input_file = \"output_20191008_0336AM.csv\" #complete\n",
    "#input_file = \"output_20191116_1256PM.csv\" #partial\n",
    "input_file = \"output_20200219_2125PM.csv\" #866 files\n",
    "#input_file = \"../data/exogeni/output_20210209_2205PM/output_20210209_2205PM.csv\" #OSG Big Topology\n",
    "df = pd.read_csv(input_file, header = 0)"
   ]
  },
  {
   "cell_type": "code",
   "execution_count": 4,
   "metadata": {},
   "outputs": [],
   "source": [
    "df['FLOW'] = df['SRCNODE']+'-'+df['DESTNODE']\n",
    "df['FM']=df['FAILURE']+df['MISSING']"
   ]
  },
  {
   "cell_type": "code",
   "execution_count": 8,
   "metadata": {},
   "outputs": [
    {
     "data": {
      "text/plain": [
       "(1411344, 17)"
      ]
     },
     "execution_count": 8,
     "metadata": {},
     "output_type": "execute_result"
    }
   ],
   "source": [
    "df_failure = df[ (df.LABEL=='0')]\n",
    "df_failure.shape"
   ]
  },
  {
   "cell_type": "code",
   "execution_count": 266,
   "metadata": {},
   "outputs": [],
   "source": [
    "from sklearn.tree import DecisionTreeClassifier\n",
    "from sklearn.ensemble import RandomForestClassifier\n",
    "from sklearn.preprocessing import OneHotEncoder\n",
    "from sklearn import tree\n",
    "from sklearn.calibration import CalibratedClassifierCV"
   ]
  },
  {
   "cell_type": "code",
   "execution_count": 267,
   "metadata": {},
   "outputs": [],
   "source": [
    "df_dummy = pd.get_dummies(df_failure[['SRCNODE', 'DESTNODE','SRC_R','DEST_S','FLOW','FM','RETRIES','FILESIZE','THROUGHPUT','LABEL']], prefix=['SRC', 'DEST','SRC_R','DEST_S','FLOW'], columns=['SRCNODE', 'DESTNODE','SRC_R','DEST_S','FLOW'])"
   ]
  },
  {
   "cell_type": "code",
   "execution_count": 268,
   "metadata": {},
   "outputs": [],
   "source": [
    "df_dummy['THROUGHPUT']=df_dummy['THROUGHPUT'].str[0:-4]\n",
    "df_dummy['THROUGHPUT']=pd.to_numeric(df_dummy['THROUGHPUT'], errors='coerce')\n",
    "df_dummy = df_dummy.replace(np.nan, 0, regex=True)\n",
    "y_complete=df_dummy['LABEL']\n",
    "X_complete=df_dummy.drop(['LABEL'],axis=1)"
   ]
  },
  {
   "cell_type": "code",
   "execution_count": 269,
   "metadata": {},
   "outputs": [
    {
     "name": "stdout",
     "output_type": "stream",
     "text": [
      "265\n"
     ]
    },
    {
     "data": {
      "text/html": [
       "<div>\n",
       "<style scoped>\n",
       "    .dataframe tbody tr th:only-of-type {\n",
       "        vertical-align: middle;\n",
       "    }\n",
       "\n",
       "    .dataframe tbody tr th {\n",
       "        vertical-align: top;\n",
       "    }\n",
       "\n",
       "    .dataframe thead th {\n",
       "        text-align: right;\n",
       "    }\n",
       "</style>\n",
       "<table border=\"1\" class=\"dataframe\">\n",
       "  <thead>\n",
       "    <tr style=\"text-align: right;\">\n",
       "      <th></th>\n",
       "      <th>FM</th>\n",
       "      <th>RETRIES</th>\n",
       "      <th>FILESIZE</th>\n",
       "      <th>THROUGHPUT</th>\n",
       "      <th>SRC_CacheBNL</th>\n",
       "      <th>SRC_CacheCal</th>\n",
       "      <th>SRC_CacheFNAL</th>\n",
       "      <th>SRC_CacheNYU</th>\n",
       "      <th>SRC_CacheSeattle</th>\n",
       "      <th>SRC_CacheSyracuse</th>\n",
       "      <th>...</th>\n",
       "      <th>FLOW_OriginUNL-CacheSeattle</th>\n",
       "      <th>FLOW_OriginUNL-CacheSyracuse</th>\n",
       "      <th>FLOW_OriginUNL-CacheUC</th>\n",
       "      <th>FLOW_OriginUNL-CacheUChic</th>\n",
       "      <th>FLOW_OriginUNL-CacheUNL</th>\n",
       "      <th>FLOW_OriginUNL-OriginCal</th>\n",
       "      <th>FLOW_OriginUNL-OriginFNAL</th>\n",
       "      <th>FLOW_OriginUNL-OriginNCSA</th>\n",
       "      <th>FLOW_OriginUNL-OriginSDSC</th>\n",
       "      <th>FLOW_OriginUNL-OriginSeattle</th>\n",
       "    </tr>\n",
       "  </thead>\n",
       "  <tbody>\n",
       "    <tr>\n",
       "      <th>12659</th>\n",
       "      <td>1</td>\n",
       "      <td>0</td>\n",
       "      <td>1386</td>\n",
       "      <td>203.0</td>\n",
       "      <td>0</td>\n",
       "      <td>0</td>\n",
       "      <td>0</td>\n",
       "      <td>0</td>\n",
       "      <td>0</td>\n",
       "      <td>0</td>\n",
       "      <td>...</td>\n",
       "      <td>0</td>\n",
       "      <td>0</td>\n",
       "      <td>0</td>\n",
       "      <td>0</td>\n",
       "      <td>0</td>\n",
       "      <td>0</td>\n",
       "      <td>0</td>\n",
       "      <td>0</td>\n",
       "      <td>0</td>\n",
       "      <td>0</td>\n",
       "    </tr>\n",
       "  </tbody>\n",
       "</table>\n",
       "<p>1 rows × 264 columns</p>\n",
       "</div>"
      ],
      "text/plain": [
       "       FM  RETRIES  FILESIZE  THROUGHPUT  SRC_CacheBNL  SRC_CacheCal  \\\n",
       "12659   1        0      1386       203.0             0             0   \n",
       "\n",
       "       SRC_CacheFNAL  SRC_CacheNYU  SRC_CacheSeattle  SRC_CacheSyracuse  ...  \\\n",
       "12659              0             0                 0                  0  ...   \n",
       "\n",
       "       FLOW_OriginUNL-CacheSeattle  FLOW_OriginUNL-CacheSyracuse  \\\n",
       "12659                            0                             0   \n",
       "\n",
       "       FLOW_OriginUNL-CacheUC  FLOW_OriginUNL-CacheUChic  \\\n",
       "12659                       0                          0   \n",
       "\n",
       "       FLOW_OriginUNL-CacheUNL  FLOW_OriginUNL-OriginCal  \\\n",
       "12659                        0                         0   \n",
       "\n",
       "       FLOW_OriginUNL-OriginFNAL  FLOW_OriginUNL-OriginNCSA  \\\n",
       "12659                          0                          0   \n",
       "\n",
       "       FLOW_OriginUNL-OriginSDSC  FLOW_OriginUNL-OriginSeattle  \n",
       "12659                          0                             0  \n",
       "\n",
       "[1 rows x 264 columns]"
      ]
     },
     "execution_count": 269,
     "metadata": {},
     "output_type": "execute_result"
    }
   ],
   "source": [
    "print(len(df_dummy.columns))\n",
    "X_complete[0:1]"
   ]
  },
  {
   "cell_type": "code",
   "execution_count": 270,
   "metadata": {},
   "outputs": [
    {
     "data": {
      "text/html": [
       "<div>\n",
       "<style scoped>\n",
       "    .dataframe tbody tr th:only-of-type {\n",
       "        vertical-align: middle;\n",
       "    }\n",
       "\n",
       "    .dataframe tbody tr th {\n",
       "        vertical-align: top;\n",
       "    }\n",
       "\n",
       "    .dataframe thead th {\n",
       "        text-align: right;\n",
       "    }\n",
       "</style>\n",
       "<table border=\"1\" class=\"dataframe\">\n",
       "  <thead>\n",
       "    <tr style=\"text-align: right;\">\n",
       "      <th></th>\n",
       "      <th>FM</th>\n",
       "      <th>RETRIES</th>\n",
       "      <th>SRC_CacheBNL</th>\n",
       "      <th>SRC_CacheCal</th>\n",
       "      <th>SRC_CacheFNAL</th>\n",
       "      <th>SRC_CacheNYU</th>\n",
       "      <th>SRC_CacheSeattle</th>\n",
       "      <th>SRC_CacheSyracuse</th>\n",
       "      <th>SRC_CacheUC</th>\n",
       "      <th>SRC_CacheUChic</th>\n",
       "      <th>...</th>\n",
       "      <th>FLOW_OriginUNL-CacheSeattle</th>\n",
       "      <th>FLOW_OriginUNL-CacheSyracuse</th>\n",
       "      <th>FLOW_OriginUNL-CacheUC</th>\n",
       "      <th>FLOW_OriginUNL-CacheUChic</th>\n",
       "      <th>FLOW_OriginUNL-CacheUNL</th>\n",
       "      <th>FLOW_OriginUNL-OriginCal</th>\n",
       "      <th>FLOW_OriginUNL-OriginFNAL</th>\n",
       "      <th>FLOW_OriginUNL-OriginNCSA</th>\n",
       "      <th>FLOW_OriginUNL-OriginSDSC</th>\n",
       "      <th>FLOW_OriginUNL-OriginSeattle</th>\n",
       "    </tr>\n",
       "  </thead>\n",
       "  <tbody>\n",
       "    <tr>\n",
       "      <th>12659</th>\n",
       "      <td>1</td>\n",
       "      <td>0</td>\n",
       "      <td>0</td>\n",
       "      <td>0</td>\n",
       "      <td>0</td>\n",
       "      <td>0</td>\n",
       "      <td>0</td>\n",
       "      <td>0</td>\n",
       "      <td>0</td>\n",
       "      <td>1</td>\n",
       "      <td>...</td>\n",
       "      <td>0</td>\n",
       "      <td>0</td>\n",
       "      <td>0</td>\n",
       "      <td>0</td>\n",
       "      <td>0</td>\n",
       "      <td>0</td>\n",
       "      <td>0</td>\n",
       "      <td>0</td>\n",
       "      <td>0</td>\n",
       "      <td>0</td>\n",
       "    </tr>\n",
       "  </tbody>\n",
       "</table>\n",
       "<p>1 rows × 262 columns</p>\n",
       "</div>"
      ],
      "text/plain": [
       "       FM  RETRIES  SRC_CacheBNL  SRC_CacheCal  SRC_CacheFNAL  SRC_CacheNYU  \\\n",
       "12659   1        0             0             0              0             0   \n",
       "\n",
       "       SRC_CacheSeattle  SRC_CacheSyracuse  SRC_CacheUC  SRC_CacheUChic  ...  \\\n",
       "12659                 0                  0            0               1  ...   \n",
       "\n",
       "       FLOW_OriginUNL-CacheSeattle  FLOW_OriginUNL-CacheSyracuse  \\\n",
       "12659                            0                             0   \n",
       "\n",
       "       FLOW_OriginUNL-CacheUC  FLOW_OriginUNL-CacheUChic  \\\n",
       "12659                       0                          0   \n",
       "\n",
       "       FLOW_OriginUNL-CacheUNL  FLOW_OriginUNL-OriginCal  \\\n",
       "12659                        0                         0   \n",
       "\n",
       "       FLOW_OriginUNL-OriginFNAL  FLOW_OriginUNL-OriginNCSA  \\\n",
       "12659                          0                          0   \n",
       "\n",
       "       FLOW_OriginUNL-OriginSDSC  FLOW_OriginUNL-OriginSeattle  \n",
       "12659                          0                             0  \n",
       "\n",
       "[1 rows x 262 columns]"
      ]
     },
     "execution_count": 270,
     "metadata": {},
     "output_type": "execute_result"
    }
   ],
   "source": [
    "df_dummy_cate = pd.get_dummies(df_failure[['SRCNODE', 'DESTNODE','SRC_R','DEST_S','FLOW','FM','RETRIES','LABEL']], prefix=['SRC', 'DEST','SRC_R','DEST_S','FLOW'], columns=['SRCNODE', 'DESTNODE','SRC_R','DEST_S','FLOW'])\n",
    "#df_dummy_cate['THROUGHPUT']=df_dummy_cate['THROUGHPUT'].str[0:-4]\n",
    "#df_dummy_cate['THROUGHPUT']=pd.to_numeric(df_dummy_cate['THROUGHPUT'], errors='coerce')\n",
    "#df_dummy_cate = df_dummy_cate.replace(np.nan, 0, regex=True)\n",
    "y_cate=df_dummy_cate['LABEL']\n",
    "X_cate=df_dummy_cate.drop(['LABEL'],axis=1)\n",
    "X_cate[0:1]"
   ]
  },
  {
   "cell_type": "code",
   "execution_count": 271,
   "metadata": {},
   "outputs": [],
   "source": [
    "from sklearn.model_selection import cross_val_score\n",
    "from sklearn.model_selection import train_test_split\n",
    "from sklearn.metrics import confusion_matrix\n",
    "from sklearn.utils.multiclass import unique_labels\n",
    "from sklearn.metrics import multilabel_confusion_matrix,balanced_accuracy_score,f1_score"
   ]
  },
  {
   "cell_type": "code",
   "execution_count": 272,
   "metadata": {},
   "outputs": [],
   "source": [
    "def accuracy(model, test_data, classes, k):\n",
    "    if(k==0): return null,null\n",
    "    num = classes.size\n",
    "    correct_class={}\n",
    "    correct=0\n",
    "    for label in classes:\n",
    "        label_pred=[]\n",
    "        isCorrect=False\n",
    "        test_data_1=test_data[test_data.LABEL==label]\n",
    "        if test_data_1.shape[0]==0:\n",
    "            print(\"No match\")\n",
    "            continue\n",
    "        x_test_1=test_data_1.drop(['LABEL'],axis=1)\n",
    "        test_prob_1 = model.predict_proba(x_test_1)\n",
    "        label_array=test_prob_1.mean(axis=0)\n",
    "        #label_array=np.nanmean(np.where(test_rf_prob_1!=0,test_rf_prob_1,np.nan),0)\n",
    "        label_index = label_array.argmax()\n",
    "        label_index_sort = label_array.argsort()\n",
    "        #label_pred[0] = classes[label_index]\n",
    "        for j in range(0,k): \n",
    "            #print(f'j={j}, label={label_index}')\n",
    "            if(j==0):\n",
    "                label_pred.append(classes[label_index])\n",
    "            else:\n",
    "                label_pred.append(classes[label_index_sort[(-1)*j-1]])\n",
    "            #print(j,label_pred[j],label)\n",
    "            if(label==label_pred[j]):\n",
    "                isCorrect=True\n",
    "                break\n",
    "               \n",
    "        #print(label_pred)\n",
    "        #print(isCorrect)\n",
    "        if isCorrect:\n",
    "            correct=correct+1\n",
    "            correct_class[label]=1\n",
    "        else:\n",
    "            correct_class[label]=0\n",
    "    return correct_class, correct, correct/num "
   ]
  },
  {
   "cell_type": "code",
   "execution_count": 273,
   "metadata": {},
   "outputs": [],
   "source": [
    "def print_s_c(c):\n",
    "    s_c=sorted(c.items(), key=lambda x: x[1], reverse=True)\n",
    "    num_link=0;num_host=0;link_pos=0;host_pos=0\n",
    "    for i in s_c:\n",
    "        name=i[0]\n",
    "        flag=i[1]\n",
    "        #print(name+\":\"+str(flag))\n",
    "        if 'Link' in name:\n",
    "            num_link+=1\n",
    "            if flag==1:\n",
    "                link_pos+=1\n",
    "        else:\n",
    "            num_host+=1\n",
    "            if flag==1:\n",
    "                host_pos+=1\n",
    "    return link_pos*1.0/num_link,host_pos*1.0/num_host"
   ]
  },
  {
   "cell_type": "code",
   "execution_count": 274,
   "metadata": {},
   "outputs": [],
   "source": [
    "training_dataset={\"complete\":{\"X\":X_complete,\n",
    "                 \"y\":y_complete},\n",
    "                 \"cate\":{\"X\":X_cate,\n",
    "                 \"y\":y_cate}}"
   ]
  },
  {
   "cell_type": "code",
   "execution_count": 275,
   "metadata": {},
   "outputs": [],
   "source": [
    "def train_dt(classifier):\n",
    "    df=[df_dummy,df_dummy_cate]\n",
    "    i=0\n",
    "    for k, d in training_dataset.items():\n",
    "        X=d[\"X\"]\n",
    "        y=d['y']\n",
    "        clf = classifier\n",
    "        clf_model=clf.fit(X,y)\n",
    "        pred=clf.predict(X)\n",
    "        balanced_accu=balanced_accuracy_score(y, pred)\n",
    "        f1=f1_score(y, pred,average='weighted')\n",
    "        print(str(k)+\":balanced_accu=\"+str(balanced_accu)+\":F1-Score=\"+str(f1))\n",
    "        for j in range(1,4):\n",
    "            c,correct,accu=accuracy(clf_model, df[i], clf.classes_,j)\n",
    "            print(\"Top-\"+str(j)+\" Accu=\"+str(accu)) \n",
    "        i=i+1"
   ]
  },
  {
   "cell_type": "code",
   "execution_count": 276,
   "metadata": {},
   "outputs": [
    {
     "name": "stdout",
     "output_type": "stream",
     "text": [
      "complete:balanced_accu=0.18621458394432105:F1-Score=0.3314606159203486\n",
      "Top-1 Accu=0.6551724137931034\n",
      "Top-2 Accu=0.7241379310344828\n",
      "Top-3 Accu=0.7241379310344828\n",
      "cate:balanced_accu=0.1376416981517295:F1-Score=0.24563996338032348\n",
      "Top-1 Accu=0.28735632183908044\n",
      "Top-2 Accu=0.3218390804597701\n",
      "Top-3 Accu=0.367816091954023\n"
     ]
    }
   ],
   "source": [
    "train_dt(DecisionTreeClassifier(max_depth = 20))"
   ]
  },
  {
   "cell_type": "code",
   "execution_count": 277,
   "metadata": {},
   "outputs": [
    {
     "name": "stdout",
     "output_type": "stream",
     "text": [
      "complete:balanced_accu=0.8938408289347674:F1-Score=0.8954295440881863\n",
      "Top-1 Accu=0.9885057471264368\n",
      "Top-2 Accu=1.0\n",
      "Top-3 Accu=1.0\n",
      "cate:balanced_accu=0.225316688667463:F1-Score=0.32562771225557235\n",
      "Top-1 Accu=0.7011494252873564\n",
      "Top-2 Accu=0.8045977011494253\n",
      "Top-3 Accu=0.8275862068965517\n"
     ]
    }
   ],
   "source": [
    "train_dt(RandomForestClassifier(max_depth=20, random_state=0))"
   ]
  },
  {
   "cell_type": "code",
   "execution_count": 246,
   "metadata": {},
   "outputs": [
    {
     "name": "stdout",
     "output_type": "stream",
     "text": [
      "CPU times: user 1.58 s, sys: 170 ms, total: 1.75 s\n",
      "Wall time: 1.75 s\n"
     ]
    }
   ],
   "source": [
    "%%time\n",
    "#clf_complete = DecisionTreeClassifier(max_depth=20, random_state=0)\n",
    "clf_complete = RandomForestClassifier(max_depth=20, random_state=0)\n",
    "clf_model_complete=clf_complete.fit(X_complete,y_complete)"
   ]
  },
  {
   "cell_type": "code",
   "execution_count": 247,
   "metadata": {},
   "outputs": [
    {
     "name": "stdout",
     "output_type": "stream",
     "text": [
      "0.8297673330994972\n"
     ]
    }
   ],
   "source": [
    "score=clf_complete.score(X_complete,y_complete)\n",
    "print(score)"
   ]
  },
  {
   "cell_type": "code",
   "execution_count": 248,
   "metadata": {},
   "outputs": [
    {
     "name": "stdout",
     "output_type": "stream",
     "text": [
      "71:0.9102564102564102\n",
      "(0.9027777777777778, 1.0)\n"
     ]
    }
   ],
   "source": [
    "c,correct,accu=accuracy(clf_model_complete, df_dummy, clf_complete.classes_,1)\n",
    "print(str(correct)+\":\"+str(accu))\n",
    "print(print_s_c(c))"
   ]
  },
  {
   "cell_type": "code",
   "execution_count": 249,
   "metadata": {},
   "outputs": [
    {
     "name": "stdout",
     "output_type": "stream",
     "text": [
      "CPU times: user 581 ms, sys: 11.8 ms, total: 593 ms\n",
      "Wall time: 592 ms\n"
     ]
    }
   ],
   "source": [
    "%%time\n",
    "#clf_cate = DecisionTreeClassifier(max_depth = 20)\n",
    "clf_cate = RandomForestClassifier(max_depth=20, random_state=0)\n",
    "clf_model_cate=clf_cate.fit(X_cate,y_cate)"
   ]
  },
  {
   "cell_type": "code",
   "execution_count": 250,
   "metadata": {},
   "outputs": [
    {
     "name": "stdout",
     "output_type": "stream",
     "text": [
      "0.24354027826493627\n"
     ]
    }
   ],
   "source": [
    "score=clf_cate.score(X_cate,y_cate)\n",
    "print(score)"
   ]
  },
  {
   "cell_type": "code",
   "execution_count": 251,
   "metadata": {},
   "outputs": [
    {
     "name": "stdout",
     "output_type": "stream",
     "text": [
      "58:0.7435897435897436\n",
      "(0.8055555555555556, 0.0)\n"
     ]
    }
   ],
   "source": [
    "c,correct,accu=accuracy(clf_model_cate, df_dummy_cate, clf_cate.classes_,3)\n",
    "print(str(correct)+\":\"+str(accu))\n",
    "print(print_s_c(c))"
   ]
  },
  {
   "cell_type": "code",
   "execution_count": 252,
   "metadata": {},
   "outputs": [],
   "source": [
    "from imblearn.over_sampling import RandomOverSampler,SMOTE, ADASYN,SMOTENC\n",
    "from imblearn.combine import SMOTEENN, SMOTETomek"
   ]
  },
  {
   "cell_type": "code",
   "execution_count": 253,
   "metadata": {},
   "outputs": [],
   "source": [
    "over_sampling = [RandomOverSampler(random_state=0),\n",
    "        #SMOTE(random_state=0),\n",
    "        #SMOTEENN(random_state=0),\n",
    "        #SMOTETomek(random_state=0),\n",
    "        #SMOTENC(categorical_features=[4,5,6,7,8,9,10,11,12,13,14,15,16,17,18,19,20,21,22,23,24,25,26,27,28,29,30,31,32,33,34,35,36,37,38,39,40,41,42,43], random_state=0)\n",
    "\n",
    "]"
   ]
  },
  {
   "cell_type": "code",
   "execution_count": 254,
   "metadata": {},
   "outputs": [
    {
     "name": "stdout",
     "output_type": "stream",
     "text": [
      "sampling:0\n",
      "complete:balanced_accu=0.7290342123846748:F1-Score=0.7394184529586084\n",
      "Top-1 Accu=1.0\n",
      "Top-2 Accu=1.0\n",
      "Top-3 Accu=1.0\n",
      "sampling:0\n",
      "cate:balanced_accu=0.2198225926195979:F1-Score=0.1483947095962452\n",
      "Top-1 Accu=0.8333333333333334\n",
      "Top-2 Accu=0.9615384615384616\n",
      "Top-3 Accu=1.0\n"
     ]
    }
   ],
   "source": [
    "df=[df_dummy,df_dummy_cate]\n",
    "i=0\n",
    "for k, d in training_dataset.items():\n",
    "    X=d[\"X\"]\n",
    "    y=d['y']\n",
    "    for s in range(0,len(over_sampling)):\n",
    "        print(\"sampling:\"+str(s))\n",
    "        os = over_sampling[s]\n",
    "        X_resampled, y_resampled = os.fit_resample(X, y)\n",
    "        clf = RandomForestClassifier(max_depth=20, random_state=0)\n",
    "        clf_model=clf.fit(X_resampled, y_resampled)\n",
    "        pred=clf.predict(X)\n",
    "        balanced_accu=balanced_accuracy_score(y, pred)\n",
    "        f1=f1_score(y, pred,average='weighted')\n",
    "        print(str(k)+\":balanced_accu=\"+str(balanced_accu)+\":F1-Score=\"+str(f1))\n",
    "        for j in range(1,4):\n",
    "            c,correct,accu=accuracy(clf_model, df[i], clf.classes_,j)\n",
    "            print(\"Top-\"+str(j)+\" Accu=\"+str(accu)) \n",
    "    i=i+1"
   ]
  },
  {
   "cell_type": "code",
   "execution_count": 255,
   "metadata": {},
   "outputs": [],
   "source": [
    "ros = RandomOverSampler(random_state=0)\n",
    "X_resampled, y_resampled = ros.fit_resample(X_complete, y_complete)"
   ]
  },
  {
   "cell_type": "code",
   "execution_count": 256,
   "metadata": {},
   "outputs": [],
   "source": [
    "clf_ros_model=clf.fit(X_resampled,y_resampled)"
   ]
  },
  {
   "cell_type": "code",
   "execution_count": 257,
   "metadata": {},
   "outputs": [
    {
     "data": {
      "text/plain": [
       "0.7290342123846748"
      ]
     },
     "execution_count": 257,
     "metadata": {},
     "output_type": "execute_result"
    }
   ],
   "source": [
    "pred=clf.predict(X_complete)\n",
    "balanced_accuracy_score(y_complete, pred)"
   ]
  },
  {
   "cell_type": "code",
   "execution_count": 258,
   "metadata": {},
   "outputs": [
    {
     "data": {
      "text/plain": [
       "(0.0, 0.0)"
      ]
     },
     "execution_count": 258,
     "metadata": {},
     "output_type": "execute_result"
    }
   ],
   "source": [
    "print_s_c(Counter(y_resampled))\n",
    "#c,correct,accu=accuracy(clf_ros_model, df_dummy, clf.classes_,1)\n",
    "#c,accu"
   ]
  },
  {
   "cell_type": "code",
   "execution_count": 259,
   "metadata": {},
   "outputs": [
    {
     "data": {
      "text/plain": [
       "0.21902823317640246"
      ]
     },
     "execution_count": 259,
     "metadata": {},
     "output_type": "execute_result"
    }
   ],
   "source": [
    "X_resampled, y_resampled = SMOTE().fit_resample(X, y)\n",
    "clf_smote_model=clf.fit(X_resampled,y_resampled)\n",
    "pred=clf_smote_model.predict(X)\n",
    "balanced_accuracy_score(y, pred)"
   ]
  },
  {
   "cell_type": "code",
   "execution_count": 260,
   "metadata": {},
   "outputs": [
    {
     "name": "stdout",
     "output_type": "stream",
     "text": [
      "[('AlbanyRouter_Link3', 1094), ('AlbanyRouter_Link84', 1094), ('AlbanyRouter_Link85', 1094), ('BostonRouter_Link83', 1094), ('BostonRouter_Link84', 1094), ('CacheBNL_Link6', 1094), ('CacheCal_Link23', 1094), ('CacheFNAL_Link16', 1094), ('CacheNYU_Link4', 1094), ('CacheSDSC_Link21', 1094), ('CacheSeattle_Link24', 1094), ('CacheSyracuse_Link3', 1094), ('CacheUChic_Link14', 1094), ('CacheUNL_Link18', 1094), ('ChicEQCHRouter_Link12', 1094), ('ChicEQCHRouter_Link61', 1094), ('ChicEQCHRouter_Link63', 1094), ('Cleveland_Link85', 1094), ('Cleveland_Link86', 1094), ('DenverRouter_Link1', 1094), ('DenverRouter_Link2', 1094), ('DenverRouter_Link7', 1094), ('ELPasoRouter_Link13', 1094), ('ELPasoRouter_Link2', 1094), ('FNALRouter_Link16', 1094), ('FNALRouter_Link17', 1094), ('FNALRouter_Link62', 1094), ('FNALRouter_Link63', 1094), ('HartfordRouter_Link6', 1094), ('HartfordRouter_Link82', 1094), ('HartfordRouter_Link83', 1094), ('KansasCityRouter_Link1', 1094), ('KansasCityRouter_Link12', 1094), ('KansasCityRouter_Link18', 1094), ('KansasCityRouter_Link19', 1094), ('LARouter_Link22', 1094), ('LARouter_Link23', 1094), ('LARouter_Link33', 1094), ('LARouter_Link38', 1094), ('LasVegasRouter_Link33', 1094), ('LasVegasRouter_Link34', 1094), ('MinneapolisRouter_Link47', 1094), ('MinneapolisRouter_Link64', 1094), ('MissoulaRouter_Link0', 1094), ('MissoulaRouter_Link47', 1094), ('NewYorkRouter_Link4', 1094), ('NewYorkRouter_Link82', 1094), ('OriginCal', 1094), ('OriginCal_Link22', 1094), ('OriginFNAL', 1094), ('OriginFNAL_Link17', 1094), ('OriginNCSA', 1094), ('OriginNCSA_Link15', 1094), ('OriginSDSC', 1094), ('OriginSDSC_Link20', 1094), ('OriginSeattle', 1094), ('OriginSeattle_Link11', 1094), ('OriginUNL', 1094), ('OriginUNL_Link19', 1094), ('SDRouter_Link20', 1094), ('SDRouter_Link21', 1094), ('SDRouter_Link38', 1094), ('SDRouter_Link40', 1094), ('SaltLakeRouter_Link10', 1094), ('SaltLakeRouter_Link34', 1094), ('SaltLakeRouter_Link7', 1094), ('SeattleRouter_Link0', 1094), ('SeattleRouter_Link10', 1094), ('SeattleRouter_Link11', 1094), ('SeattleRouter_Link24', 1094), ('TucsonRouter_Link13', 1094), ('TucsonRouter_Link15', 1094), ('TucsonRouter_Link40', 1094), ('UChicagoRouter_Link14', 1094), ('UChicagoRouter_Link61', 1094), ('UChicagoRouter_Link62', 1094), ('UChicagoRouter_Link64', 1094), ('UChicagoRouter_Link86', 1094)]\n"
     ]
    },
    {
     "ename": "ValueError",
     "evalue": "X has 88 features, but DecisionTreeClassifier is expecting 86 features as input.",
     "output_type": "error",
     "traceback": [
      "\u001b[0;31m---------------------------------------------------------------------------\u001b[0m",
      "\u001b[0;31mValueError\u001b[0m                                Traceback (most recent call last)",
      "\u001b[0;32m<ipython-input-260-d204b0e8dbe3>\u001b[0m in \u001b[0;36m<module>\u001b[0;34m\u001b[0m\n\u001b[1;32m      1\u001b[0m \u001b[0mprint\u001b[0m\u001b[0;34m(\u001b[0m\u001b[0msorted\u001b[0m\u001b[0;34m(\u001b[0m\u001b[0mCounter\u001b[0m\u001b[0;34m(\u001b[0m\u001b[0my_resampled\u001b[0m\u001b[0;34m)\u001b[0m\u001b[0;34m.\u001b[0m\u001b[0mitems\u001b[0m\u001b[0;34m(\u001b[0m\u001b[0;34m)\u001b[0m\u001b[0;34m)\u001b[0m\u001b[0;34m)\u001b[0m\u001b[0;34m\u001b[0m\u001b[0;34m\u001b[0m\u001b[0m\n\u001b[0;32m----> 2\u001b[0;31m \u001b[0mc\u001b[0m\u001b[0;34m,\u001b[0m\u001b[0mcorrect\u001b[0m\u001b[0;34m,\u001b[0m\u001b[0maccu\u001b[0m\u001b[0;34m=\u001b[0m\u001b[0maccuracy\u001b[0m\u001b[0;34m(\u001b[0m\u001b[0mclf_smote_model\u001b[0m\u001b[0;34m,\u001b[0m \u001b[0mdf_dummy\u001b[0m\u001b[0;34m,\u001b[0m \u001b[0mclf\u001b[0m\u001b[0;34m.\u001b[0m\u001b[0mclasses_\u001b[0m\u001b[0;34m,\u001b[0m\u001b[0;36m1\u001b[0m\u001b[0;34m)\u001b[0m\u001b[0;34m\u001b[0m\u001b[0;34m\u001b[0m\u001b[0m\n\u001b[0m\u001b[1;32m      3\u001b[0m \u001b[0mc\u001b[0m\u001b[0;34m,\u001b[0m\u001b[0maccu\u001b[0m\u001b[0;34m\u001b[0m\u001b[0;34m\u001b[0m\u001b[0m\n",
      "\u001b[0;32m<ipython-input-240-63817a2b041e>\u001b[0m in \u001b[0;36maccuracy\u001b[0;34m(model, test_data, classes, k)\u001b[0m\n\u001b[1;32m     12\u001b[0m             \u001b[0;32mcontinue\u001b[0m\u001b[0;34m\u001b[0m\u001b[0;34m\u001b[0m\u001b[0m\n\u001b[1;32m     13\u001b[0m         \u001b[0mx_test_1\u001b[0m\u001b[0;34m=\u001b[0m\u001b[0mtest_data_1\u001b[0m\u001b[0;34m.\u001b[0m\u001b[0mdrop\u001b[0m\u001b[0;34m(\u001b[0m\u001b[0;34m[\u001b[0m\u001b[0;34m'LABEL'\u001b[0m\u001b[0;34m]\u001b[0m\u001b[0;34m,\u001b[0m\u001b[0maxis\u001b[0m\u001b[0;34m=\u001b[0m\u001b[0;36m1\u001b[0m\u001b[0;34m)\u001b[0m\u001b[0;34m\u001b[0m\u001b[0;34m\u001b[0m\u001b[0m\n\u001b[0;32m---> 14\u001b[0;31m         \u001b[0mtest_prob_1\u001b[0m \u001b[0;34m=\u001b[0m \u001b[0mmodel\u001b[0m\u001b[0;34m.\u001b[0m\u001b[0mpredict_proba\u001b[0m\u001b[0;34m(\u001b[0m\u001b[0mx_test_1\u001b[0m\u001b[0;34m)\u001b[0m\u001b[0;34m\u001b[0m\u001b[0;34m\u001b[0m\u001b[0m\n\u001b[0m\u001b[1;32m     15\u001b[0m         \u001b[0mlabel_array\u001b[0m\u001b[0;34m=\u001b[0m\u001b[0mtest_prob_1\u001b[0m\u001b[0;34m.\u001b[0m\u001b[0mmean\u001b[0m\u001b[0;34m(\u001b[0m\u001b[0maxis\u001b[0m\u001b[0;34m=\u001b[0m\u001b[0;36m0\u001b[0m\u001b[0;34m)\u001b[0m\u001b[0;34m\u001b[0m\u001b[0;34m\u001b[0m\u001b[0m\n\u001b[1;32m     16\u001b[0m         \u001b[0;31m#label_array=np.nanmean(np.where(test_rf_prob_1!=0,test_rf_prob_1,np.nan),0)\u001b[0m\u001b[0;34m\u001b[0m\u001b[0;34m\u001b[0m\u001b[0;34m\u001b[0m\u001b[0m\n",
      "\u001b[0;32m~/opt/anaconda3/lib/python3.8/site-packages/sklearn/ensemble/_forest.py\u001b[0m in \u001b[0;36mpredict_proba\u001b[0;34m(self, X)\u001b[0m\n\u001b[1;32m    672\u001b[0m         \u001b[0mcheck_is_fitted\u001b[0m\u001b[0;34m(\u001b[0m\u001b[0mself\u001b[0m\u001b[0;34m)\u001b[0m\u001b[0;34m\u001b[0m\u001b[0;34m\u001b[0m\u001b[0m\n\u001b[1;32m    673\u001b[0m         \u001b[0;31m# Check data\u001b[0m\u001b[0;34m\u001b[0m\u001b[0;34m\u001b[0m\u001b[0;34m\u001b[0m\u001b[0m\n\u001b[0;32m--> 674\u001b[0;31m         \u001b[0mX\u001b[0m \u001b[0;34m=\u001b[0m \u001b[0mself\u001b[0m\u001b[0;34m.\u001b[0m\u001b[0m_validate_X_predict\u001b[0m\u001b[0;34m(\u001b[0m\u001b[0mX\u001b[0m\u001b[0;34m)\u001b[0m\u001b[0;34m\u001b[0m\u001b[0;34m\u001b[0m\u001b[0m\n\u001b[0m\u001b[1;32m    675\u001b[0m \u001b[0;34m\u001b[0m\u001b[0m\n\u001b[1;32m    676\u001b[0m         \u001b[0;31m# Assign chunk of trees to jobs\u001b[0m\u001b[0;34m\u001b[0m\u001b[0;34m\u001b[0m\u001b[0;34m\u001b[0m\u001b[0m\n",
      "\u001b[0;32m~/opt/anaconda3/lib/python3.8/site-packages/sklearn/ensemble/_forest.py\u001b[0m in \u001b[0;36m_validate_X_predict\u001b[0;34m(self, X)\u001b[0m\n\u001b[1;32m    420\u001b[0m         \u001b[0mcheck_is_fitted\u001b[0m\u001b[0;34m(\u001b[0m\u001b[0mself\u001b[0m\u001b[0;34m)\u001b[0m\u001b[0;34m\u001b[0m\u001b[0;34m\u001b[0m\u001b[0m\n\u001b[1;32m    421\u001b[0m \u001b[0;34m\u001b[0m\u001b[0m\n\u001b[0;32m--> 422\u001b[0;31m         \u001b[0;32mreturn\u001b[0m \u001b[0mself\u001b[0m\u001b[0;34m.\u001b[0m\u001b[0mestimators_\u001b[0m\u001b[0;34m[\u001b[0m\u001b[0;36m0\u001b[0m\u001b[0;34m]\u001b[0m\u001b[0;34m.\u001b[0m\u001b[0m_validate_X_predict\u001b[0m\u001b[0;34m(\u001b[0m\u001b[0mX\u001b[0m\u001b[0;34m,\u001b[0m \u001b[0mcheck_input\u001b[0m\u001b[0;34m=\u001b[0m\u001b[0;32mTrue\u001b[0m\u001b[0;34m)\u001b[0m\u001b[0;34m\u001b[0m\u001b[0;34m\u001b[0m\u001b[0m\n\u001b[0m\u001b[1;32m    423\u001b[0m \u001b[0;34m\u001b[0m\u001b[0m\n\u001b[1;32m    424\u001b[0m     \u001b[0;34m@\u001b[0m\u001b[0mproperty\u001b[0m\u001b[0;34m\u001b[0m\u001b[0;34m\u001b[0m\u001b[0m\n",
      "\u001b[0;32m~/opt/anaconda3/lib/python3.8/site-packages/sklearn/tree/_classes.py\u001b[0m in \u001b[0;36m_validate_X_predict\u001b[0;34m(self, X, check_input)\u001b[0m\n\u001b[1;32m    400\u001b[0m         \u001b[0;34m\"\"\"Validate the training data on predict (probabilities).\"\"\"\u001b[0m\u001b[0;34m\u001b[0m\u001b[0;34m\u001b[0m\u001b[0m\n\u001b[1;32m    401\u001b[0m         \u001b[0;32mif\u001b[0m \u001b[0mcheck_input\u001b[0m\u001b[0;34m:\u001b[0m\u001b[0;34m\u001b[0m\u001b[0;34m\u001b[0m\u001b[0m\n\u001b[0;32m--> 402\u001b[0;31m             X = self._validate_data(X, dtype=DTYPE, accept_sparse=\"csr\",\n\u001b[0m\u001b[1;32m    403\u001b[0m                                     reset=False)\n\u001b[1;32m    404\u001b[0m             if issparse(X) and (X.indices.dtype != np.intc or\n",
      "\u001b[0;32m~/opt/anaconda3/lib/python3.8/site-packages/sklearn/base.py\u001b[0m in \u001b[0;36m_validate_data\u001b[0;34m(self, X, y, reset, validate_separately, **check_params)\u001b[0m\n\u001b[1;32m    435\u001b[0m \u001b[0;34m\u001b[0m\u001b[0m\n\u001b[1;32m    436\u001b[0m         \u001b[0;32mif\u001b[0m \u001b[0mcheck_params\u001b[0m\u001b[0;34m.\u001b[0m\u001b[0mget\u001b[0m\u001b[0;34m(\u001b[0m\u001b[0;34m'ensure_2d'\u001b[0m\u001b[0;34m,\u001b[0m \u001b[0;32mTrue\u001b[0m\u001b[0;34m)\u001b[0m\u001b[0;34m:\u001b[0m\u001b[0;34m\u001b[0m\u001b[0;34m\u001b[0m\u001b[0m\n\u001b[0;32m--> 437\u001b[0;31m             \u001b[0mself\u001b[0m\u001b[0;34m.\u001b[0m\u001b[0m_check_n_features\u001b[0m\u001b[0;34m(\u001b[0m\u001b[0mX\u001b[0m\u001b[0;34m,\u001b[0m \u001b[0mreset\u001b[0m\u001b[0;34m=\u001b[0m\u001b[0mreset\u001b[0m\u001b[0;34m)\u001b[0m\u001b[0;34m\u001b[0m\u001b[0;34m\u001b[0m\u001b[0m\n\u001b[0m\u001b[1;32m    438\u001b[0m \u001b[0;34m\u001b[0m\u001b[0m\n\u001b[1;32m    439\u001b[0m         \u001b[0;32mreturn\u001b[0m \u001b[0mout\u001b[0m\u001b[0;34m\u001b[0m\u001b[0;34m\u001b[0m\u001b[0m\n",
      "\u001b[0;32m~/opt/anaconda3/lib/python3.8/site-packages/sklearn/base.py\u001b[0m in \u001b[0;36m_check_n_features\u001b[0;34m(self, X, reset)\u001b[0m\n\u001b[1;32m    363\u001b[0m \u001b[0;34m\u001b[0m\u001b[0m\n\u001b[1;32m    364\u001b[0m         \u001b[0;32mif\u001b[0m \u001b[0mn_features\u001b[0m \u001b[0;34m!=\u001b[0m \u001b[0mself\u001b[0m\u001b[0;34m.\u001b[0m\u001b[0mn_features_in_\u001b[0m\u001b[0;34m:\u001b[0m\u001b[0;34m\u001b[0m\u001b[0;34m\u001b[0m\u001b[0m\n\u001b[0;32m--> 365\u001b[0;31m             raise ValueError(\n\u001b[0m\u001b[1;32m    366\u001b[0m                 \u001b[0;34mf\"X has {n_features} features, but {self.__class__.__name__} \"\u001b[0m\u001b[0;34m\u001b[0m\u001b[0;34m\u001b[0m\u001b[0m\n\u001b[1;32m    367\u001b[0m                 f\"is expecting {self.n_features_in_} features as input.\")\n",
      "\u001b[0;31mValueError\u001b[0m: X has 88 features, but DecisionTreeClassifier is expecting 86 features as input."
     ]
    }
   ],
   "source": [
    "print(sorted(Counter(y_resampled).items()))\n",
    "c,correct,accu=accuracy(clf_smote_model, df_dummy, clf.classes_,1)\n",
    "c,accu"
   ]
  },
  {
   "cell_type": "code",
   "execution_count": null,
   "metadata": {},
   "outputs": [],
   "source": [
    "smote_nc = SMOTENC(categorical_features=[4,5,6,7,8,9,10,11,12,13,14,15,16,17,18,19,20,21,22,23,24,25,26,27,28,29,30,31,32,33,34,35,36,37,38,39,40,41,42,43], random_state=0)\n",
    "X_resampled, y_resampled = smote_nc.fit_resample(x, y)\n",
    "clf_smotenc_model=clf.fit(X_resampled,y_resampled)\n",
    "pred=clf_smotenc_model.predict(x)\n",
    "balanced_accuracy_score(y, pred)"
   ]
  },
  {
   "cell_type": "code",
   "execution_count": null,
   "metadata": {},
   "outputs": [],
   "source": [
    "X_resampled, y_resampled = ADASYN().fit_resample(x, y)\n",
    "clf_adasyn_model=clf.fit(X_resampled,y_resampled)\n",
    "pred=clf_adasyn_model.predict(x)\n",
    "balanced_accuracy_score(y, pred)"
   ]
  },
  {
   "cell_type": "code",
   "execution_count": null,
   "metadata": {},
   "outputs": [],
   "source": [
    "print(sorted(Counter(y_resampled).items()))\n",
    "c,correct,accu=accuracy(clf_smote_model, df_dummy, clf.classes_,3)\n",
    "c,accu"
   ]
  },
  {
   "cell_type": "code",
   "execution_count": null,
   "metadata": {},
   "outputs": [],
   "source": [
    "from imblearn.under_sampling import ClusterCentroids,RandomUnderSampler\n",
    "#cc = ClusterCentroids(random_state=0)\n",
    "cc = RandomUnderSampler(random_state=0)\n",
    "X_resampled, y_resampled = cc.fit_resample(x, y)\n",
    "print(sorted(Counter(y_resampled).items()))"
   ]
  },
  {
   "cell_type": "code",
   "execution_count": null,
   "metadata": {},
   "outputs": [],
   "source": [
    "clf_cc_model=clf.fit(X_resampled,y_resampled)\n",
    "pred=clf_cc_model.predict(x)\n",
    "balanced_accuracy_score(y, pred)"
   ]
  },
  {
   "cell_type": "code",
   "execution_count": null,
   "metadata": {},
   "outputs": [],
   "source": [
    "c,correct,accu=accuracy(clf_smote_model, df_dummy, clf.classes_,1)\n",
    "c,accu"
   ]
  },
  {
   "cell_type": "code",
   "execution_count": null,
   "metadata": {},
   "outputs": [],
   "source": [
    "tree.plot_tree(clf.fit(x,y))\n",
    "dot_data = tree.export_graphviz(clf_model, out_file=None,\n",
    "                         feature_names=x.columns, \n",
    "                         class_names=clf.classes_,\n",
    "                         filled=True, rounded=True,\n",
    "                         special_characters=True)\n",
    "graph = graphviz.Source(dot_data) \n",
    "graph.render(\"simple\")"
   ]
  },
  {
   "cell_type": "code",
   "execution_count": null,
   "metadata": {},
   "outputs": [],
   "source": [
    "from sklearn.model_selection import cross_val_score\n",
    "from sklearn.model_selection import train_test_split\n",
    "from sklearn.metrics import confusion_matrix\n",
    "from sklearn.utils.multiclass import unique_labels\n",
    "from sklearn.metrics import multilabel_confusion_matrix,balanced_accuracy_score,f1_score"
   ]
  },
  {
   "cell_type": "code",
   "execution_count": null,
   "metadata": {},
   "outputs": [],
   "source": [
    "clf_model.classes_"
   ]
  },
  {
   "cell_type": "code",
   "execution_count": null,
   "metadata": {},
   "outputs": [],
   "source": [
    "print(x[:1])"
   ]
  },
  {
   "cell_type": "code",
   "execution_count": null,
   "metadata": {},
   "outputs": [],
   "source": [
    "df_failure.head"
   ]
  },
  {
   "cell_type": "code",
   "execution_count": null,
   "metadata": {},
   "outputs": [],
   "source": [
    "test_prob = clf_model.predict_proba(x[:1])\n",
    "test_prob"
   ]
  },
  {
   "cell_type": "code",
   "execution_count": null,
   "metadata": {},
   "outputs": [],
   "source": [
    "cross_val_score(clf, x, y, scoring='accuracy',cv=5)"
   ]
  },
  {
   "cell_type": "code",
   "execution_count": null,
   "metadata": {},
   "outputs": [],
   "source": [
    "clf_model.score(x,y)"
   ]
  },
  {
   "cell_type": "code",
   "execution_count": null,
   "metadata": {},
   "outputs": [],
   "source": [
    "x_train, x_test, y_train, y_test = train_test_split(x, y, random_state=0)"
   ]
  },
  {
   "cell_type": "code",
   "execution_count": null,
   "metadata": {},
   "outputs": [],
   "source": [
    "y_pred = clf.fit(x_train, y_train).predict(x_test)"
   ]
  },
  {
   "cell_type": "code",
   "execution_count": null,
   "metadata": {},
   "outputs": [],
   "source": [
    "y_test.shape,y_pred.shape"
   ]
  },
  {
   "cell_type": "code",
   "execution_count": null,
   "metadata": {},
   "outputs": [],
   "source": [
    "balanced_accuracy_score(y_test, y_pred)"
   ]
  },
  {
   "cell_type": "code",
   "execution_count": null,
   "metadata": {},
   "outputs": [],
   "source": [
    "f1_score(y_test, y_pred,average='weighted')"
   ]
  },
  {
   "cell_type": "code",
   "execution_count": null,
   "metadata": {},
   "outputs": [],
   "source": [
    "test_prob = clf_model.predict_proba(x_train[:1])"
   ]
  },
  {
   "cell_type": "code",
   "execution_count": null,
   "metadata": {},
   "outputs": [],
   "source": [
    "test_prob"
   ]
  },
  {
   "cell_type": "code",
   "execution_count": null,
   "metadata": {},
   "outputs": [],
   "source": [
    "clf_model.classes_[26]"
   ]
  },
  {
   "cell_type": "code",
   "execution_count": null,
   "metadata": {},
   "outputs": [],
   "source": [
    "from sklearn.ensemble import RandomForestClassifier\n",
    "from sklearn.ensemble import ExtraTreesClassifier"
   ]
  },
  {
   "cell_type": "code",
   "execution_count": null,
   "metadata": {},
   "outputs": [],
   "source": [
    "clf_rf = RandomForestClassifier(n_estimators=100, max_depth=30, min_samples_split=2, random_state=0)"
   ]
  },
  {
   "cell_type": "code",
   "execution_count": null,
   "metadata": {},
   "outputs": [],
   "source": [
    "clf_rf_model=clf_rf.fit(x, y)"
   ]
  },
  {
   "cell_type": "code",
   "execution_count": null,
   "metadata": {},
   "outputs": [],
   "source": [
    "c,r=accuracy(clf_rf_model, df_dummy, clf.classes_,3)\n",
    "c,r"
   ]
  },
  {
   "cell_type": "code",
   "execution_count": null,
   "metadata": {},
   "outputs": [],
   "source": [
    "clf_rf_model.score(x,y)"
   ]
  },
  {
   "cell_type": "code",
   "execution_count": null,
   "metadata": {},
   "outputs": [],
   "source": [
    "clf_extra = ExtraTreesClassifier(n_estimators=10, max_depth=20, min_samples_split=2, random_state=0)"
   ]
  },
  {
   "cell_type": "code",
   "execution_count": null,
   "metadata": {},
   "outputs": [],
   "source": [
    "cross_val_score(clf_extra, x, y, cv=5)"
   ]
  },
  {
   "cell_type": "code",
   "execution_count": null,
   "metadata": {},
   "outputs": [],
   "source": [
    "clf_extra_model=clf_extra.fit(x, y)"
   ]
  },
  {
   "cell_type": "code",
   "execution_count": null,
   "metadata": {},
   "outputs": [],
   "source": [
    "c,r=accuracy(clf_extra_model, df_dummy, clf.classes_,3)\n",
    "c,r"
   ]
  },
  {
   "cell_type": "code",
   "execution_count": null,
   "metadata": {},
   "outputs": [],
   "source": [
    "clf_extra_model.score(x,y)"
   ]
  },
  {
   "cell_type": "code",
   "execution_count": null,
   "metadata": {},
   "outputs": [],
   "source": [
    "y_pred_extra = clf_extra.fit(x_train, y_train).predict(x_test)\n",
    "balanced_accuracy_score(y_test, y_pred_extra)"
   ]
  },
  {
   "cell_type": "code",
   "execution_count": null,
   "metadata": {},
   "outputs": [],
   "source": [
    "y_pred = clf_model.predict(x)\n",
    "balanced_accuracy_score(y, y_pred)"
   ]
  },
  {
   "cell_type": "code",
   "execution_count": null,
   "metadata": {},
   "outputs": [],
   "source": [
    "y_pred_rf = clf_rf_model.predict(x)\n",
    "balanced_accuracy_score(y, y_pred_rf)"
   ]
  },
  {
   "cell_type": "code",
   "execution_count": null,
   "metadata": {},
   "outputs": [],
   "source": [
    "y_pred_extra = clf_extra_model.predict(x)\n",
    "balanced_accuracy_score(y, y_pred_extra)"
   ]
  },
  {
   "cell_type": "code",
   "execution_count": null,
   "metadata": {},
   "outputs": [],
   "source": [
    "f1_score(y, y_pred_rf,average='weighted')"
   ]
  },
  {
   "cell_type": "code",
   "execution_count": null,
   "metadata": {},
   "outputs": [],
   "source": [
    "df_dummy_1=df_dummy[df_dummy.LABEL=='I2_Link0']"
   ]
  },
  {
   "cell_type": "code",
   "execution_count": null,
   "metadata": {},
   "outputs": [],
   "source": [
    "x_test_1=df_dummy_1.drop(['LABEL'],axis=1)\n",
    "test_prob_1 = clf_model.predict_proba(x_test_1)\n",
    "test_prob_1.shape, x_test_1.shape"
   ]
  },
  {
   "cell_type": "code",
   "execution_count": null,
   "metadata": {},
   "outputs": [],
   "source": [
    "test_prob_1.sum(axis=0).argmax()"
   ]
  },
  {
   "cell_type": "code",
   "execution_count": null,
   "metadata": {},
   "outputs": [],
   "source": [
    "clf_model.classes_[26]"
   ]
  },
  {
   "cell_type": "code",
   "execution_count": null,
   "metadata": {},
   "outputs": [],
   "source": [
    "test_prob_1[0]"
   ]
  },
  {
   "cell_type": "code",
   "execution_count": null,
   "metadata": {},
   "outputs": [],
   "source": [
    "test_rf_prob_1 = clf_rf.predict_proba(x_test_1)\n",
    "test_rf_prob_1.shape, x_test_1.shape"
   ]
  },
  {
   "cell_type": "code",
   "execution_count": null,
   "metadata": {},
   "outputs": [],
   "source": [
    "test_rf_prob_1[100]"
   ]
  },
  {
   "cell_type": "code",
   "execution_count": null,
   "metadata": {},
   "outputs": [],
   "source": [
    "#label_array=np.nanmean(np.where(test_prob_1!=0,test_prob_1,np.nan),axis=0)\n",
    "#label_array=test_rf_prob_1.mean(axis=0)\n",
    "label_array=np.true_divide(test_prob_1.sum(0),(test_prob_1!=0).sum(0))"
   ]
  },
  {
   "cell_type": "code",
   "execution_count": null,
   "metadata": {},
   "outputs": [],
   "source": [
    "label_array.argmax()"
   ]
  },
  {
   "cell_type": "code",
   "execution_count": null,
   "metadata": {},
   "outputs": [],
   "source": [
    "clf_model.classes_[44]"
   ]
  },
  {
   "cell_type": "code",
   "execution_count": null,
   "metadata": {},
   "outputs": [],
   "source": [
    "test_rf_prob_1.sum(axis=0).argmax()"
   ]
  },
  {
   "cell_type": "code",
   "execution_count": null,
   "metadata": {},
   "outputs": [],
   "source": [
    "def accuracy_ori(model, test_data, classes):\n",
    "    num = classes.size\n",
    "    correct=0\n",
    "    for label in classes:\n",
    "        test_data_1=test_data[test_data.LABEL==label]\n",
    "        if test_data_1.shape[0]==0:\n",
    "            print(\"No match\")\n",
    "            continue\n",
    "        x_test_1=test_data_1.drop(['LABEL'],axis=1)\n",
    "        test_prob_1 = model.predict_proba(x_test_1)\n",
    "        label_array=test_prob_1.mean(axis=0)\n",
    "        #label_array=np.nanmean(np.where(test_rf_prob_1!=0,test_rf_prob_1,np.nan),0)\n",
    "        label_index = label_array.argmax()\n",
    "        label_index_sort = label_array.argsort()\n",
    "        label_pred_1 = classes[label_index]\n",
    "        label_pred_2 = classes[label_index_sort[-2]] \n",
    "        label_pred_3 = classes[label_index_sort[-3]] \n",
    "        print(label_array)\n",
    "        print(label_index,label_index_sort[-1], label_index_sort[-2],label,label_pred_1,label_pred_2)\n",
    "        if( (label==label_pred_1) | (label==label_pred_2) | (label==label_pred_3)):\n",
    "            correct=correct+1\n",
    "    return correct, correct/num"
   ]
  },
  {
   "cell_type": "code",
   "execution_count": null,
   "metadata": {},
   "outputs": [],
   "source": [
    "c,r=accuracy_ori(clf, df_dummy, clf_model.classes_)\n",
    "c,r"
   ]
  },
  {
   "cell_type": "code",
   "execution_count": null,
   "metadata": {},
   "outputs": [],
   "source": [
    "c,r=accuracy_ori(clf_rf, df_dummy, clf_model.classes_)\n",
    "c,r"
   ]
  },
  {
   "cell_type": "code",
   "execution_count": null,
   "metadata": {},
   "outputs": [],
   "source": [
    "c,r=accuracy_ori(clf_extra, df_dummy, clf_model.classes_)\n",
    "c,r"
   ]
  },
  {
   "cell_type": "code",
   "execution_count": null,
   "metadata": {},
   "outputs": [],
   "source": [
    "test_file = \"output_20191116_1256PM.csv\"\n",
    "test_df = pd.read_csv(test_file, header = 0)\n",
    "test_df['FLOW'] = test_df['SRCNODE']+'-'+test_df['DESTNODE']\n",
    "test_df['FM']=test_df['FAILURE']+test_df['MISSING']\n",
    "test_df_failure = test_df[ (test_df.FM==1)]\n",
    "test_dummy = pd.get_dummies(test_df_failure[['SRCNODE', 'DESTNODE','FM','RETRIES','LABEL']], prefix=['SRC', 'DEST'], columns=['SRCNODE', 'DESTNODE'])"
   ]
  },
  {
   "cell_type": "code",
   "execution_count": null,
   "metadata": {},
   "outputs": [],
   "source": [
    "test_dummy.shape"
   ]
  },
  {
   "cell_type": "code",
   "execution_count": null,
   "metadata": {},
   "outputs": [],
   "source": [
    "test_dummy.head"
   ]
  },
  {
   "cell_type": "code",
   "execution_count": null,
   "metadata": {},
   "outputs": [],
   "source": [
    "c,r=accuracy_ori(clf, test_dummy, clf_model.classes_)\n",
    "c,r"
   ]
  },
  {
   "cell_type": "code",
   "execution_count": null,
   "metadata": {},
   "outputs": [],
   "source": [
    "test_file = \"output_20191008_0336AM.csv\" #complete\n",
    "#test_file = \"big.csv\" #partial\n",
    "test_df = pd.read_csv(test_file, header = 0)\n",
    "test_df['FLOW'] = test_df['SRCNODE']+'-'+test_df['DESTNODE']\n",
    "test_df['FM']=test_df['FAILURE']+test_df['MISSING']\n",
    "test_df_failure = test_df[ (test_df.FM==1)]\n",
    "\n",
    "test_df_dummy = pd.get_dummies(test_df_failure[['SRCNODE', 'DESTNODE','FM','RETRIES','LABEL']], prefix=['SRC', 'DEST'], columns=['SRCNODE', 'DESTNODE'])\n",
    "test_y=test_df_failure['LABEL']\n",
    "test_x=test_df_dummy.drop(['LABEL'],axis=1)"
   ]
  },
  {
   "cell_type": "code",
   "execution_count": null,
   "metadata": {},
   "outputs": [],
   "source": [
    "%%time\n",
    "c,r=accuracy(clf, test_df_dummy, clf.classes_,3)\n",
    "c,r"
   ]
  },
  {
   "cell_type": "code",
   "execution_count": null,
   "metadata": {},
   "outputs": [],
   "source": []
  }
 ],
 "metadata": {
  "kernelspec": {
   "display_name": "Python 3",
   "language": "python",
   "name": "python3"
  },
  "language_info": {
   "codemirror_mode": {
    "name": "ipython",
    "version": 3
   },
   "file_extension": ".py",
   "mimetype": "text/x-python",
   "name": "python",
   "nbconvert_exporter": "python",
   "pygments_lexer": "ipython3",
   "version": "3.8.8"
  }
 },
 "nbformat": 4,
 "nbformat_minor": 2
}
