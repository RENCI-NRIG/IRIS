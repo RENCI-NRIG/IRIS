{
 "cells": [
  {
   "cell_type": "code",
   "execution_count": 109,
   "metadata": {},
   "outputs": [],
   "source": [
    "import numpy as np\n",
    "import pandas as pd\n",
    "import seaborn as sns\n",
    "import matplotlib.pyplot as plt\n",
    "from collections import Counter"
   ]
  },
  {
   "cell_type": "code",
   "execution_count": 110,
   "metadata": {},
   "outputs": [],
   "source": [
    "def file_process(data_file, info=False):\n",
    "    input_file = data_file\n",
    "    df = pd.read_csv(input_file, header = 0)\n",
    "    #df.dropna(inplace = True) \n",
    "    df.fillna(1.0/500.0) #the corruption rate for the cache failures is all set to be \"NaN\"\n",
    "    df['corrupt_label']=df['corrupt_label'].str.replace('-','.')\n",
    "    df['flow'] = df['submit_host']+'-'+df['execution_host']\n",
    "    df['FM']=df['transfer_success']+df['checksum_success']\n",
    "    \n",
    "    df_failure = df[df.checksum_success==False]\n",
    "    df_dummy = pd.get_dummies(df_failure[['submit_host', 'execution_host','flow','transfer_success', 'checksum_success','src_label','dst_label','bytes','corrupt_rate','corrupt_label']], prefix=['submit_host', 'execution_host','src_label','dst_label','flow'], columns=['submit_host', 'execution_host','src_label','dst_label','flow'])\n",
    "    #df_dummy['bytes']=df_dummy['bytes'].str[0:-4]\n",
    "    df_dummy['bytes']=pd.to_numeric(df_dummy['bytes'], errors='coerce')\n",
    "    df_dummy['corrupt_rate']=pd.to_numeric(df_dummy['corrupt_rate'], errors='coerce')\n",
    "    df_dummy = df_dummy.replace(np.nan, 0, regex=True)\n",
    "    y_complete=df_dummy['corrupt_label']\n",
    "    X_complete=df_dummy.drop(['corrupt_label'],axis=1)\n",
    "    \n",
    "    if info:\n",
    "        original_headers = list(df.columns.values)\n",
    "        print(\"Original shape:\")\n",
    "        print(original_headers)\n",
    "        print(\"Original shape:\"+str(df.shape))\n",
    "        dummy_headers = list(df_dummy.columns.values)\n",
    "        print(\"Encoded shape:\")\n",
    "        print(dummy_headers)\n",
    "        print(str(df_dummy.shape))\n",
    "    \n",
    "    return df,df_dummy,X_complete,y_complete\n",
    "    \n",
    "    #return df,df_dummy"
   ]
  },
  {
   "cell_type": "code",
   "execution_count": 111,
   "metadata": {},
   "outputs": [
    {
     "name": "stdout",
     "output_type": "stream",
     "text": [
      "Original shape:\n",
      "['root_xwf_id', 'job_id', 'start_time', 'end_time', 'submit_host', 'submit_user', 'execution_host', 'execution_user', 'job_type', 'job_exit_code', 'bytes', 'lfn', 'src_label', 'src_url', 'src_proto_host', 'dst_label', 'dst_url', 'dst_proto_host', 'transfer_success', 'checksum_success', 'actual_checksum', 'expected_checksum', 'scenario', 'corrupt_label', 'corrupt_start', 'corrupt_end', 'corrupt_rate', 'flow', 'FM']\n",
      "Original shape:(45291, 29)\n",
      "Encoded shape:\n",
      "['transfer_success', 'checksum_success', 'bytes', 'corrupt_rate', 'corrupt_label', 'submit_host_syr-submit', 'submit_host_uc-submit', 'submit_host_ucsd-submit', 'submit_host_unl-submit', 'execution_host_syr-compute-c0', 'execution_host_syr-compute-c1', 'execution_host_uc-compute-c0', 'execution_host_uc-compute-c1', 'execution_host_ucsd-compute-c0', 'execution_host_ucsd-compute-c1', 'execution_host_unl-compute-c0', 'execution_host_unl-compute-c1', 'src_label_syr', 'src_label_uc', 'src_label_ucsd', 'src_label_unl', 'dst_label_syr', 'dst_label_uc', 'dst_label_ucsd', 'dst_label_unl', 'flow_syr-submit-syr-compute-c0', 'flow_syr-submit-syr-compute-c1', 'flow_syr-submit-uc-compute-c0', 'flow_syr-submit-uc-compute-c1', 'flow_syr-submit-ucsd-compute-c0', 'flow_syr-submit-ucsd-compute-c1', 'flow_syr-submit-unl-compute-c0', 'flow_syr-submit-unl-compute-c1', 'flow_uc-submit-syr-compute-c0', 'flow_uc-submit-syr-compute-c1', 'flow_uc-submit-uc-compute-c0', 'flow_uc-submit-uc-compute-c1', 'flow_uc-submit-ucsd-compute-c0', 'flow_uc-submit-ucsd-compute-c1', 'flow_uc-submit-unl-compute-c0', 'flow_uc-submit-unl-compute-c1', 'flow_ucsd-submit-syr-compute-c0', 'flow_ucsd-submit-syr-compute-c1', 'flow_ucsd-submit-uc-compute-c0', 'flow_ucsd-submit-uc-compute-c1', 'flow_ucsd-submit-ucsd-compute-c0', 'flow_ucsd-submit-ucsd-compute-c1', 'flow_ucsd-submit-unl-compute-c0', 'flow_ucsd-submit-unl-compute-c1', 'flow_unl-submit-syr-compute-c0', 'flow_unl-submit-syr-compute-c1', 'flow_unl-submit-uc-compute-c0', 'flow_unl-submit-uc-compute-c1', 'flow_unl-submit-ucsd-compute-c0', 'flow_unl-submit-ucsd-compute-c1', 'flow_unl-submit-unl-compute-c1']\n",
      "(2920, 56)\n"
     ]
    },
    {
     "name": "stderr",
     "output_type": "stream",
     "text": [
      "/Users/yxin/anaconda3/lib/python3.7/site-packages/pandas/core/computation/expressions.py:194: UserWarning: evaluating in Python space because the '+' operator is not supported by numexpr for the bool dtype, use '|' instead\n",
      "  op=op_str, alt_op=unsupported[op_str]\n"
     ]
    }
   ],
   "source": [
    "#input_file = \"../data/exogeni/var/iris_results/01v2_02_20210115_0445AM/01v2_02_20210115_0445AM_full.csv\"\n",
    "input_file = \"../data/exogeni/var2/iris_results/01v2_02_20210125_1336PM/01v2_02_20210125_1336PM_full.csv\"\n",
    "df_ori,df_dummy,X_complete, y_complete=file_process(input_file,True)\n",
    "#df_ori,df_dummy=file_process(input_file,False)\n",
    "y_complete=df_dummy['corrupt_label']\n",
    "X_complete=df_dummy.drop(['corrupt_label'],axis=1)\n",
    "df_training=[df_dummy]\n",
    "\n",
    "training_dataset={\"complete\":{\"X\":X_complete,\n",
    "                 \"y\":y_complete}}"
   ]
  },
  {
   "cell_type": "code",
   "execution_count": 112,
   "metadata": {},
   "outputs": [
    {
     "name": "stdout",
     "output_type": "stream",
     "text": [
      "Original shape:\n",
      "['root_xwf_id', 'job_id', 'start_time', 'end_time', 'submit_host', 'submit_user', 'execution_host', 'execution_user', 'job_type', 'job_exit_code', 'bytes', 'lfn', 'src_label', 'src_url', 'src_proto_host', 'dst_label', 'dst_url', 'dst_proto_host', 'transfer_success', 'checksum_success', 'actual_checksum', 'expected_checksum', 'scenario', 'corrupt_label', 'corrupt_start', 'corrupt_end', 'corrupt_rate', 'flow', 'FM']\n",
      "Original shape:(44849, 29)\n",
      "Encoded shape:\n",
      "['transfer_success', 'checksum_success', 'bytes', 'corrupt_rate', 'corrupt_label', 'submit_host_syr-submit', 'submit_host_uc-submit', 'submit_host_ucsd-submit', 'submit_host_unl-submit', 'execution_host_syr-compute-c0', 'execution_host_syr-compute-c1', 'execution_host_uc-compute-c0', 'execution_host_uc-compute-c1', 'execution_host_ucsd-compute-c0', 'execution_host_ucsd-compute-c1', 'execution_host_unl-compute-c0', 'execution_host_unl-compute-c1', 'src_label_syr', 'src_label_uc', 'src_label_ucsd', 'src_label_unl', 'dst_label_syr', 'dst_label_uc', 'dst_label_ucsd', 'dst_label_unl', 'flow_syr-submit-syr-compute-c0', 'flow_syr-submit-uc-compute-c0', 'flow_syr-submit-uc-compute-c1', 'flow_syr-submit-ucsd-compute-c0', 'flow_syr-submit-ucsd-compute-c1', 'flow_syr-submit-unl-compute-c0', 'flow_syr-submit-unl-compute-c1', 'flow_uc-submit-syr-compute-c0', 'flow_uc-submit-syr-compute-c1', 'flow_uc-submit-uc-compute-c0', 'flow_uc-submit-ucsd-compute-c0', 'flow_uc-submit-ucsd-compute-c1', 'flow_uc-submit-unl-compute-c0', 'flow_uc-submit-unl-compute-c1', 'flow_ucsd-submit-syr-compute-c0', 'flow_ucsd-submit-syr-compute-c1', 'flow_ucsd-submit-uc-compute-c0', 'flow_ucsd-submit-uc-compute-c1', 'flow_ucsd-submit-ucsd-compute-c0', 'flow_ucsd-submit-ucsd-compute-c1', 'flow_ucsd-submit-unl-compute-c0', 'flow_ucsd-submit-unl-compute-c1', 'flow_unl-submit-syr-compute-c0', 'flow_unl-submit-syr-compute-c1', 'flow_unl-submit-uc-compute-c0', 'flow_unl-submit-uc-compute-c1', 'flow_unl-submit-ucsd-compute-c0', 'flow_unl-submit-ucsd-compute-c1']\n",
      "(2915, 53)\n"
     ]
    }
   ],
   "source": [
    "#test_file = \"../data/exogeni/var2/iris_results/01v2_02_20210125_1336PM/01v2_02_20210125_1336PM_full.csv\"\n",
    "test_file = \"../data/exogeni/var/iris_results/01v2_02_20210115_0445AM/01v2_02_20210115_0445AM_full.csv\"\n",
    "df_t_ori,df_t_dummy,X_test, y_test=file_process(test_file,True)\n",
    "#df_t_ori,df_t_dummy=file_process(test_file,True)\n",
    "#y_test=df_t_dummy['corrupt_label']\n",
    "#X_test=df_t_dummy.drop(['corrupt_label'],axis=1)"
   ]
  },
  {
   "cell_type": "code",
   "execution_count": 113,
   "metadata": {},
   "outputs": [],
   "source": [
    "def missing_feature(X_complete, X_test):\n",
    "    print(\"X_complete:\"+str(len(X_complete.columns)))\n",
    "    print(\"X_test:\" + str(len(X_test.columns)))\n",
    "    c_t_missing=[]\n",
    "    for c_c in X_complete.columns:\n",
    "        if c_c not in X_test.columns:\n",
    "            #print(c_c+\" c_c not in test!\")\n",
    "            c_t_missing.append(c_c)\n",
    "            \n",
    "    c_c_missing=[]\n",
    "    for c_t in X_test.columns:\n",
    "        if c_t not in X_complete.columns:\n",
    "            #print(c_t+\" c_t not in complete!\")\n",
    "            c_c_missing.append(c_t)\n",
    "\n",
    "    for c_c in c_t_missing:\n",
    "        #print(c_t+\" c_t dropping!\")\n",
    "        X_test[c_c]='0'\n",
    "        \n",
    "    for c_t in c_c_missing:\n",
    "        #print(c_t+\" c_t dropping!\")\n",
    "        X_test=X_test.drop(columns=c_t)\n",
    "    \n",
    "    print(\"After imputation:\"+str(len(X_test.columns)))\n",
    "    \n",
    "    return X_test"
   ]
  },
  {
   "cell_type": "code",
   "execution_count": 114,
   "metadata": {},
   "outputs": [
    {
     "name": "stdout",
     "output_type": "stream",
     "text": [
      "X_complete:55\n",
      "X_test:52\n",
      "After imputation:55\n",
      "X_complete:56\n",
      "X_test:53\n",
      "After imputation:56\n"
     ]
    }
   ],
   "source": [
    "X_test = missing_feature(X_complete, X_test)\n",
    "df_t_dummy = missing_feature(df_dummy, df_t_dummy)\n",
    "df_t=[df_t_dummy]\n",
    "testing_dataset={\"testing\":{\"X\":X_test,\n",
    "                 \"y\":y_test}}"
   ]
  },
  {
   "cell_type": "code",
   "execution_count": 116,
   "metadata": {},
   "outputs": [],
   "source": [
    "def accuracy(model, test_data, classes, class_label, k):\n",
    "    if(k==0): return null,null\n",
    "    num = classes.size\n",
    "    correct_class={}\n",
    "    correct=0\n",
    "    for label in classes:\n",
    "        label_pred=[]\n",
    "        isCorrect=False\n",
    "        test_data_1=test_data[test_data[class_label]==label]\n",
    "        if test_data_1.shape[0]==0:\n",
    "            print(\"No match\")\n",
    "            correct=correct+1\n",
    "            correct_class[label]=1\n",
    "            continue\n",
    "        x_test_1=test_data_1.drop([class_label],axis=1)\n",
    "        test_prob_1 = model.predict_proba(x_test_1)\n",
    "        label_array=test_prob_1.mean(axis=0)\n",
    "        #label_array=np.nanmean(np.where(test_rf_prob_1!=0,test_rf_prob_1,np.nan),0)\n",
    "        label_index = label_array.argmax()\n",
    "        label_index_sort = label_array.argsort()\n",
    "        #label_pred[0] = classes[label_index]\n",
    "        for j in range(0,k): \n",
    "            #print(f'j={j}, label={label_index}')\n",
    "            if(j==0):\n",
    "                label_pred.append(classes[label_index])\n",
    "            else:\n",
    "                label_pred.append(classes[label_index_sort[(-1)*j-1]])\n",
    "            #print(j,label_pred[j],label)\n",
    "            if(label==label_pred[j]):\n",
    "                isCorrect=True\n",
    "                break\n",
    "               \n",
    "        #print(label_pred)\n",
    "        #print(isCorrect)\n",
    "        if isCorrect:\n",
    "            correct=correct+1\n",
    "            correct_class[label]=1\n",
    "        else:\n",
    "            correct_class[label]=0\n",
    "            print(\"wrong label:\"+label)\n",
    "            for j in range(0,k): \n",
    "                print(\"predicted label \"+str(j)+\":\"+label_pred[j])\n",
    "    return correct_class, correct, correct/num "
   ]
  },
  {
   "cell_type": "code",
   "execution_count": 117,
   "metadata": {},
   "outputs": [],
   "source": [
    "def train_dt(classifier, df, training_dataset,class_label):\n",
    "    i=0\n",
    "    for k, d in training_dataset.items():\n",
    "        X=d[\"X\"]\n",
    "        y=d['y']\n",
    "        clf = classifier\n",
    "        clf_model=clf.fit(X,y)\n",
    "        pred=clf.predict(X)\n",
    "        balanced_accu=balanced_accuracy_score(y, pred)\n",
    "        f1=f1_score(y, pred,average='weighted')\n",
    "        print(str(k)+ \"label_size:\" + str(clf.classes_.size) + \":balanced_accu=\"+str(balanced_accu)+\":F1-Score=\"+str(f1))\n",
    "        for j in range(1,4):\n",
    "            c,correct,accu=accuracy(clf_model, df[i], clf.classes_, class_label, j)\n",
    "            print(\"Top-\"+str(j)+\" Accu=\"+str(accu)) \n",
    "            \n",
    "    return clf_model"
   ]
  },
  {
   "cell_type": "code",
   "execution_count": 118,
   "metadata": {},
   "outputs": [],
   "source": [
    "def test_dt(clf_model,df_t, testing_dataset,class_label):\n",
    "    i=0\n",
    "    for k, d in testing_dataset.items():\n",
    "        y_t = d['y']\n",
    "        X_t = d['X']\n",
    "        pred=clf_model.predict(X_t)\n",
    "        balanced_accu=balanced_accuracy_score(y_t, pred)\n",
    "        f1=f1_score(y_t, pred,average='weighted')\n",
    "        print(\":balanced_accu=\"+str(balanced_accu)+\":F1-Score=\"+str(f1))\n",
    "        for j in range(1,4):\n",
    "            c,correct,accu=accuracy(clf_model, df_t[i], clf_model.classes_,class_label,j)\n",
    "            print(\"Top-\"+str(j)+\" Accu=\"+str(accu)) \n",
    "        i=i+1"
   ]
  },
  {
   "cell_type": "code",
   "execution_count": 119,
   "metadata": {},
   "outputs": [],
   "source": [
    "from sklearn.tree import DecisionTreeClassifier\n",
    "from sklearn.ensemble import RandomForestClassifier\n",
    "from sklearn.preprocessing import OneHotEncoder\n",
    "from sklearn import tree\n",
    "import graphviz \n",
    "from sklearn.calibration import CalibratedClassifierCV\n",
    "\n",
    "from sklearn.model_selection import cross_val_score\n",
    "from sklearn.model_selection import train_test_split\n",
    "from sklearn.metrics import confusion_matrix\n",
    "from sklearn.utils.multiclass import unique_labels\n",
    "from sklearn.metrics import multilabel_confusion_matrix,balanced_accuracy_score,f1_score"
   ]
  },
  {
   "cell_type": "markdown",
   "metadata": {},
   "source": [
    "# 1. Try the top-k classification with the corrupted flows"
   ]
  },
  {
   "cell_type": "code",
   "execution_count": 120,
   "metadata": {},
   "outputs": [
    {
     "name": "stdout",
     "output_type": "stream",
     "text": [
      "completelabel_size:26:balanced_accu=0.5267422484650454:F1-Score=0.5385219099058715\n",
      "wrong label:cenic.Link9 \n",
      "predicted label 0:starlight.Link24 \n",
      "wrong label:esnet.Link7 \n",
      "predicted label 0:starlight.Link24 \n",
      "wrong label:internet2.Link2 \n",
      "predicted label 0:unl.router.n1.Link14 \n",
      "wrong label:starlight.Link6 \n",
      "predicted label 0:syr.compute.c0.Link26 \n",
      "wrong label:starlight.Link7 \n",
      "predicted label 0:esnet.Link22 \n",
      "wrong label:starlight.Link9 \n",
      "predicted label 0:syr.router.n2.Link24 \n",
      "wrong label:ucsd.compute.c1.Link13 \n",
      "predicted label 0:starlight.Link24 \n",
      "wrong label:ucsd.router.n3.Link22 \n",
      "predicted label 0:esnet.Link1 \n",
      "wrong label:unl.compute.c1.Link16 \n",
      "predicted label 0:unl.router.n1.Link14 \n",
      "Top-1 Accu=0.6538461538461539\n",
      "wrong label:cenic.Link9 \n",
      "predicted label 0:starlight.Link24 \n",
      "predicted label 1:uc.router.n0.Link12 \n",
      "wrong label:starlight.Link6 \n",
      "predicted label 0:syr.compute.c0.Link26 \n",
      "predicted label 1:syr.router.n2.Link24 \n",
      "wrong label:starlight.Link7 \n",
      "predicted label 0:esnet.Link22 \n",
      "predicted label 1:syr.router.n2.Link24 \n",
      "wrong label:ucsd.compute.c1.Link13 \n",
      "predicted label 0:starlight.Link24 \n",
      "predicted label 1:esnet.Link7 \n",
      "wrong label:ucsd.router.n3.Link22 \n",
      "predicted label 0:esnet.Link1 \n",
      "predicted label 1:cenic.Link12 \n",
      "Top-2 Accu=0.8076923076923077\n",
      "wrong label:ucsd.router.n3.Link22 \n",
      "predicted label 0:esnet.Link1 \n",
      "predicted label 1:cenic.Link12 \n",
      "predicted label 2:ucsd.compute.c0.Link23 \n",
      "Top-3 Accu=0.9615384615384616\n"
     ]
    }
   ],
   "source": [
    "clf_model = train_dt(RandomForestClassifier(max_depth=20, random_state=0),df_training,training_dataset, 'corrupt_label')"
   ]
  },
  {
   "cell_type": "code",
   "execution_count": 121,
   "metadata": {},
   "outputs": [
    {
     "name": "stdout",
     "output_type": "stream",
     "text": [
      ":balanced_accu=0.3770600275569455:F1-Score=0.3462134573288588\n",
      "wrong label:cenic.Link9 \n",
      "predicted label 0:starlight.Link24 \n",
      "No match\n"
     ]
    },
    {
     "name": "stderr",
     "output_type": "stream",
     "text": [
      "/Users/yxin/anaconda3/lib/python3.7/site-packages/sklearn/metrics/_classification.py:1814: UserWarning: y_pred contains classes not in y_true\n",
      "  warnings.warn('y_pred contains classes not in y_true')\n"
     ]
    },
    {
     "name": "stdout",
     "output_type": "stream",
     "text": [
      "No match\n",
      "No match\n",
      "wrong label:starlight.Link6 \n",
      "predicted label 0:syr.router.n2.Link24 \n",
      "No match\n",
      "No match\n",
      "No match\n",
      "wrong label:uc.compute.c1.Link4 \n",
      "predicted label 0:uc.router.n0.Link12 \n",
      "No match\n",
      "wrong label:ucsd.compute.c1.Link13 \n",
      "predicted label 0:ucsd.cache \n",
      "wrong label:ucsd.router.n3.Link22 \n",
      "predicted label 0:internet2.Link14 \n",
      "wrong label:unl.compute.c1.Link16 \n",
      "predicted label 0:unl.router.n1.Link14 \n",
      "Top-1 Accu=0.7692307692307693\n",
      "wrong label:cenic.Link9 \n",
      "predicted label 0:starlight.Link24 \n",
      "predicted label 1:uc.router.n0.Link12 \n",
      "No match\n",
      "No match\n",
      "No match\n",
      "wrong label:starlight.Link6 \n",
      "predicted label 0:syr.router.n2.Link24 \n",
      "predicted label 1:syr.compute.c0.Link26 \n",
      "No match\n",
      "No match\n",
      "No match\n",
      "wrong label:uc.compute.c1.Link4 \n",
      "predicted label 0:uc.router.n0.Link12 \n",
      "predicted label 1:esnet.Link22 \n",
      "No match\n",
      "wrong label:ucsd.compute.c1.Link13 \n",
      "predicted label 0:ucsd.cache \n",
      "predicted label 1:ucsd.compute.c0.Link23 \n",
      "wrong label:ucsd.router.n3.Link22 \n",
      "predicted label 0:internet2.Link14 \n",
      "predicted label 1:ucsd.compute.c0.Link23 \n",
      "Top-2 Accu=0.8076923076923077\n",
      "No match\n",
      "No match\n",
      "No match\n",
      "wrong label:starlight.Link6 \n",
      "predicted label 0:syr.router.n2.Link24 \n",
      "predicted label 1:syr.compute.c0.Link26 \n",
      "predicted label 2:internet2.Link14 \n",
      "No match\n",
      "No match\n",
      "No match\n",
      "No match\n",
      "wrong label:ucsd.compute.c1.Link13 \n",
      "predicted label 0:ucsd.cache \n",
      "predicted label 1:ucsd.compute.c0.Link23 \n",
      "predicted label 2:esnet.Link22 \n",
      "wrong label:ucsd.router.n3.Link22 \n",
      "predicted label 0:internet2.Link14 \n",
      "predicted label 1:ucsd.compute.c0.Link23 \n",
      "predicted label 2:esnet.Link2 \n",
      "Top-3 Accu=0.8846153846153846\n"
     ]
    }
   ],
   "source": [
    "test_dt(clf_model,df_t,testing_dataset, 'corrupt_label')"
   ]
  },
  {
   "cell_type": "markdown",
   "metadata": {},
   "source": [
    "# 2. Let's balance the data via oversampling"
   ]
  },
  {
   "cell_type": "code",
   "execution_count": 122,
   "metadata": {},
   "outputs": [],
   "source": [
    "from imblearn.over_sampling import RandomOverSampler,SMOTE, ADASYN,SMOTENC\n",
    "from imblearn.combine import SMOTEENN, SMOTETomek\n",
    "\n",
    "def train_over_sampling(classifier,df,training_dataset,class_label,test=False):\n",
    "    i=0\n",
    "    over_sampling = [RandomOverSampler(random_state=0),\n",
    "        #SMOTE(random_state=0),\n",
    "        #SMOTEENN(random_state=0),\n",
    "        #SMOTETomek(random_state=0),\n",
    "        #SMOTENC(categorical_features=[4,5,6,7,8,9,10,11,12,13,14,15,16,17,18,19,20,21,22,23,24,25,26,27,28,29,30,31,32,33,34,35,36,37,38,39,40,41,42,43], random_state=0)\n",
    "\n",
    "    ]\n",
    "    for k, d in training_dataset.items():\n",
    "        for s in range(0,len(over_sampling)):\n",
    "            X=d[\"X\"]\n",
    "            y=d['y']\n",
    "            print(\"sampling:\"+str(s)+\":\"+str(over_sampling[s]))\n",
    "            os = over_sampling[s]\n",
    "            X_resampled, y_resampled = os.fit_resample(X, y)\n",
    "            #clf = RandomForestClassifier(max_depth=20, random_state=0)\n",
    "            clf = classifier\n",
    "            clf_model=clf.fit(X_resampled, y_resampled)\n",
    "            \n",
    "            pred=clf.predict(X)\n",
    "            balanced_accu=balanced_accuracy_score(y, pred)\n",
    "            f1=f1_score(y, pred,average='weighted')\n",
    "            print(str(k)+\":balanced_accu=\"+str(balanced_accu)+\":F1-Score=\"+str(f1))\n",
    "            \n",
    "            for j in range(1,4):\n",
    "                if test:\n",
    "                    c,correct,accu=accuracy(clf_model, df_t[i], clf.classes_,class_label,j)\n",
    "                else:\n",
    "                    c,correct,accu=accuracy(clf_model, df[i], clf.classes_,class_label,j)\n",
    "                print(\"Top-\"+str(j)+\" Accu=\"+str(accu)) \n",
    "        i=i+1\n",
    "        \n",
    "    return clf_model"
   ]
  },
  {
   "cell_type": "code",
   "execution_count": 123,
   "metadata": {},
   "outputs": [
    {
     "name": "stderr",
     "output_type": "stream",
     "text": [
      "/Users/yxin/anaconda3/lib/python3.7/site-packages/pandas/core/computation/expressions.py:194: UserWarning: evaluating in Python space because the '+' operator is not supported by numexpr for the bool dtype, use '|' instead\n",
      "  op=op_str, alt_op=unsupported[op_str]\n"
     ]
    },
    {
     "name": "stdout",
     "output_type": "stream",
     "text": [
      "Original shape:\n",
      "['root_xwf_id', 'job_id', 'start_time', 'end_time', 'submit_host', 'submit_user', 'execution_host', 'execution_user', 'job_type', 'job_exit_code', 'bytes', 'lfn', 'src_label', 'src_url', 'src_proto_host', 'dst_label', 'dst_url', 'dst_proto_host', 'transfer_success', 'checksum_success', 'actual_checksum', 'expected_checksum', 'scenario', 'corrupt_label', 'corrupt_start', 'corrupt_end', 'corrupt_rate', 'flow', 'FM']\n",
      "Original shape:(45291, 29)\n",
      "Encoded shape:\n",
      "['transfer_success', 'checksum_success', 'bytes', 'corrupt_rate', 'corrupt_label', 'submit_host_syr-submit', 'submit_host_uc-submit', 'submit_host_ucsd-submit', 'submit_host_unl-submit', 'execution_host_syr-compute-c0', 'execution_host_syr-compute-c1', 'execution_host_uc-compute-c0', 'execution_host_uc-compute-c1', 'execution_host_ucsd-compute-c0', 'execution_host_ucsd-compute-c1', 'execution_host_unl-compute-c0', 'execution_host_unl-compute-c1', 'src_label_syr', 'src_label_uc', 'src_label_ucsd', 'src_label_unl', 'dst_label_syr', 'dst_label_uc', 'dst_label_ucsd', 'dst_label_unl', 'flow_syr-submit-syr-compute-c0', 'flow_syr-submit-syr-compute-c1', 'flow_syr-submit-uc-compute-c0', 'flow_syr-submit-uc-compute-c1', 'flow_syr-submit-ucsd-compute-c0', 'flow_syr-submit-ucsd-compute-c1', 'flow_syr-submit-unl-compute-c0', 'flow_syr-submit-unl-compute-c1', 'flow_uc-submit-syr-compute-c0', 'flow_uc-submit-syr-compute-c1', 'flow_uc-submit-uc-compute-c0', 'flow_uc-submit-uc-compute-c1', 'flow_uc-submit-ucsd-compute-c0', 'flow_uc-submit-ucsd-compute-c1', 'flow_uc-submit-unl-compute-c0', 'flow_uc-submit-unl-compute-c1', 'flow_ucsd-submit-syr-compute-c0', 'flow_ucsd-submit-syr-compute-c1', 'flow_ucsd-submit-uc-compute-c0', 'flow_ucsd-submit-uc-compute-c1', 'flow_ucsd-submit-ucsd-compute-c0', 'flow_ucsd-submit-ucsd-compute-c1', 'flow_ucsd-submit-unl-compute-c0', 'flow_ucsd-submit-unl-compute-c1', 'flow_unl-submit-syr-compute-c0', 'flow_unl-submit-syr-compute-c1', 'flow_unl-submit-uc-compute-c0', 'flow_unl-submit-uc-compute-c1', 'flow_unl-submit-ucsd-compute-c0', 'flow_unl-submit-ucsd-compute-c1', 'flow_unl-submit-unl-compute-c1']\n",
      "(2920, 56)\n",
      "sampling:0:RandomOverSampler(random_state=0)\n",
      "complete:balanced_accu=0.6768008140775756:F1-Score=0.47910222922070184\n",
      "Top-1 Accu=1.0\n",
      "Top-2 Accu=1.0\n",
      "Top-3 Accu=1.0\n"
     ]
    }
   ],
   "source": [
    "#df_ori,df_dummy=file_process(input_file,True)\n",
    "#y_complete=df_dummy['corrupt_label']\n",
    "#X_complete=df_dummy.drop(['corrupt_label'],axis=1)\n",
    "\n",
    "df_ori,df_dummy,X_complete, y_complete=file_process(input_file,True)\n",
    "df=[df_dummy]\n",
    "\n",
    "training_dataset={\"complete\":{\"X\":X_complete,\n",
    "                 \"y\":y_complete}}\n",
    "\n",
    "clf_model = train_over_sampling(RandomForestClassifier(max_depth=20, random_state=0),df,training_dataset, 'corrupt_label')"
   ]
  },
  {
   "cell_type": "code",
   "execution_count": 124,
   "metadata": {},
   "outputs": [
    {
     "name": "stdout",
     "output_type": "stream",
     "text": [
      ":balanced_accu=0.38526381956451944:F1-Score=0.28174397494575776\n",
      "No match\n"
     ]
    },
    {
     "name": "stderr",
     "output_type": "stream",
     "text": [
      "/Users/yxin/anaconda3/lib/python3.7/site-packages/sklearn/metrics/_classification.py:1814: UserWarning: y_pred contains classes not in y_true\n",
      "  warnings.warn('y_pred contains classes not in y_true')\n"
     ]
    },
    {
     "name": "stdout",
     "output_type": "stream",
     "text": [
      "No match\n",
      "No match\n",
      "wrong label:starlight.Link6 \n",
      "predicted label 0:syr.router.n2.Link24 \n",
      "No match\n",
      "No match\n",
      "No match\n",
      "wrong label:uc.compute.c1.Link4 \n",
      "predicted label 0:uc.router.n0.Link12 \n",
      "No match\n",
      "wrong label:ucsd.compute.c1.Link13 \n",
      "predicted label 0:ucsd.compute.c0.Link23 \n",
      "wrong label:ucsd.router.n3.Link22 \n",
      "predicted label 0:ucsd.compute.c0.Link23 \n",
      "Top-1 Accu=0.8461538461538461\n",
      "No match\n",
      "No match\n",
      "No match\n",
      "wrong label:starlight.Link6 \n",
      "predicted label 0:syr.router.n2.Link24 \n",
      "predicted label 1:internet2.Link14 \n",
      "No match\n",
      "No match\n",
      "No match\n",
      "No match\n",
      "wrong label:ucsd.compute.c1.Link13 \n",
      "predicted label 0:ucsd.compute.c0.Link23 \n",
      "predicted label 1:ucsd.cache \n",
      "wrong label:ucsd.router.n3.Link22 \n",
      "predicted label 0:ucsd.compute.c0.Link23 \n",
      "predicted label 1:internet2.Link14 \n",
      "Top-2 Accu=0.8846153846153846\n",
      "No match\n",
      "No match\n",
      "No match\n",
      "wrong label:starlight.Link6 \n",
      "predicted label 0:syr.router.n2.Link24 \n",
      "predicted label 1:internet2.Link14 \n",
      "predicted label 2:syr.compute.c0.Link26 \n",
      "No match\n",
      "No match\n",
      "No match\n",
      "No match\n",
      "wrong label:ucsd.compute.c1.Link13 \n",
      "predicted label 0:ucsd.compute.c0.Link23 \n",
      "predicted label 1:ucsd.cache \n",
      "predicted label 2:esnet.Link2 \n",
      "wrong label:ucsd.router.n3.Link22 \n",
      "predicted label 0:ucsd.compute.c0.Link23 \n",
      "predicted label 1:internet2.Link14 \n",
      "predicted label 2:uc.compute.c0.Link3 \n",
      "Top-3 Accu=0.8846153846153846\n"
     ]
    }
   ],
   "source": [
    "test_dt(clf_model,df_t,testing_dataset, 'corrupt_label')"
   ]
  },
  {
   "cell_type": "markdown",
   "metadata": {},
   "source": [
    "# 3. Try the coarser per-site classification"
   ]
  },
  {
   "cell_type": "code",
   "execution_count": 125,
   "metadata": {},
   "outputs": [],
   "source": [
    "#count the number of labels in the data and the number of labels that actually caused errors.\n",
    "def num_label(df, df_dummy, site):\n",
    "    site_ori = df[site]\n",
    "    counter_site = Counter(site_ori)\n",
    "    print(\"original num_label:\" + str(len(counter_site)))\n",
    "    #for k,v in counter_site.items():\n",
    "    #    print(k)\n",
    "    \n",
    "    site_dummy = df_dummy[site]\n",
    "    counter_site_dummy = Counter(site_dummy)\n",
    "    print(\"recorded num_label:\" + str(len(counter_site_dummy)))\n",
    "\n",
    "    site_name = df[site].str.split('.', n=1, expand = True)\n",
    "    site_dummy_name = df[site].str.split('.', n=1, expand = True)\n",
    "    \n",
    "    return counter_site, counter_site_dummy,site_name,site_dummy_name"
   ]
  },
  {
   "cell_type": "code",
   "execution_count": 127,
   "metadata": {},
   "outputs": [
    {
     "name": "stdout",
     "output_type": "stream",
     "text": [
      "original num_label:49\n",
      "recorded num_label:26\n",
      "completelabel_size:8:balanced_accu=0.6093384531968332:F1-Score=0.6106753029121078\n",
      "Top-1 Accu=1.0\n",
      "Top-2 Accu=1.0\n",
      "Top-3 Accu=1.0\n"
     ]
    }
   ],
   "source": [
    "counter_site,counter_site_dummy,site_name,site_dummy_name=num_label(df_ori,df_dummy,'corrupt_label')\n",
    "df_ori['site'] = site_name[0]\n",
    "df_dummy['site'] = site_dummy_name[0]\n",
    "df_dummy=df_dummy.drop(['corrupt_label'],axis=1)\n",
    "y_complete=df_dummy['site']\n",
    "X_complete=df_dummy.drop(['site'],axis=1)\n",
    "\n",
    "df=[df_dummy]\n",
    "    \n",
    "training_dataset={\"complete\":{\"X\":X_complete,\n",
    "                 \"y\":y_complete}}\n",
    "\n",
    "site_model = train_dt(RandomForestClassifier(max_depth=20, random_state=0),df,training_dataset, 'site')"
   ]
  },
  {
   "cell_type": "code",
   "execution_count": 130,
   "metadata": {},
   "outputs": [
    {
     "name": "stdout",
     "output_type": "stream",
     "text": [
      "original num_label:49\n",
      "recorded num_label:23\n",
      ":balanced_accu=0.5880701023451244:F1-Score=0.4487391398386769\n",
      "wrong label:internet2\n",
      "predicted label 0:uc\n",
      "Top-1 Accu=0.875\n",
      "Top-2 Accu=1.0\n",
      "Top-3 Accu=1.0\n"
     ]
    }
   ],
   "source": [
    "counter_site_t,counter_site_t_dummy,site_t_name,site_t_dummy_name=num_label(df_t_ori,df_t_dummy,'corrupt_label')\n",
    "df_t_ori['site'] = site_t_name[0]\n",
    "df_t_dummy['site'] = site_t_dummy_name[0]\n",
    "df_t_dummy=df_t_dummy.drop(['corrupt_label'],axis=1)\n",
    "y_t=df_t_dummy['site']\n",
    "X_t=df_t_dummy.drop(['site'],axis=1)\n",
    "\n",
    "df_t=[df_t_dummy]\n",
    "    \n",
    "testing_dataset={\"complete\":{\"X\":X_t,\n",
    "                 \"y\":y_t}}\n",
    "test_dt(site_model,df_t,testing_dataset, 'site')"
   ]
  },
  {
   "cell_type": "markdown",
   "metadata": {},
   "source": [
    "# 4. try the probability based model"
   ]
  },
  {
   "cell_type": "code",
   "execution_count": 131,
   "metadata": {},
   "outputs": [],
   "source": [
    "def generate_prob_dict(df, target_name):\n",
    "    # summarize the class distribution\n",
    "    #target = df.values[:,-5]\n",
    "    target = df[target_name]\n",
    "    counter = Counter(target)\n",
    "    label_prob_dict={}\n",
    "    for k,v in counter.items():\n",
    "        per = v / len(target) * 100\n",
    "        #print('Class=%s, Count=%d, Percentage=%.3f%%' % (k, v, per))\n",
    "        df_c=df[(df[target_name]==k)]\n",
    "        target_flow=df_c['flow']\n",
    "        counter_flow = Counter(target_flow)\n",
    "        flow_prob_dict={}\n",
    "        for i,j in counter_flow.items():\n",
    "            #print(i+\":\"+str(j)+\":\"+str(len(target_flow)))\n",
    "            per_flow = j / len(target_flow) * 100\n",
    "            #print('flow=%s, Count=%d, Per__flow=%.3f%%' % (i, j, per_flow))\n",
    "            df_flow=df_c[(df_c['flow']==i)]\n",
    "            flow_count=df_flow['checksum_success'].value_counts(normalize=True)\n",
    "            #print(flow_count.index.tolist())\n",
    "            #print(flow_count.values.tolist())\n",
    "            flow_count_dict=flow_count.to_dict()\n",
    "            #print(flow_count_dict)\n",
    "            if 0 in flow_count_dict:\n",
    "                flow_prob_dict[i]=flow_count_dict[0]\n",
    "            else:\n",
    "                flow_prob_dict[i]=0\n",
    "        label_prob_dict[k]=flow_prob_dict\n",
    "    return label_prob_dict"
   ]
  },
  {
   "cell_type": "code",
   "execution_count": 152,
   "metadata": {},
   "outputs": [
    {
     "name": "stderr",
     "output_type": "stream",
     "text": [
      "/Users/yxin/anaconda3/lib/python3.7/site-packages/pandas/core/computation/expressions.py:194: UserWarning: evaluating in Python space because the '+' operator is not supported by numexpr for the bool dtype, use '|' instead\n",
      "  op=op_str, alt_op=unsupported[op_str]\n"
     ]
    },
    {
     "name": "stdout",
     "output_type": "stream",
     "text": [
      "Original shape:\n",
      "['root_xwf_id', 'job_id', 'start_time', 'end_time', 'submit_host', 'submit_user', 'execution_host', 'execution_user', 'job_type', 'job_exit_code', 'bytes', 'lfn', 'src_label', 'src_url', 'src_proto_host', 'dst_label', 'dst_url', 'dst_proto_host', 'transfer_success', 'checksum_success', 'actual_checksum', 'expected_checksum', 'scenario', 'corrupt_label', 'corrupt_start', 'corrupt_end', 'corrupt_rate', 'flow', 'FM']\n",
      "Original shape:(45291, 29)\n",
      "Encoded shape:\n",
      "['transfer_success', 'checksum_success', 'bytes', 'corrupt_rate', 'corrupt_label', 'submit_host_syr-submit', 'submit_host_uc-submit', 'submit_host_ucsd-submit', 'submit_host_unl-submit', 'execution_host_syr-compute-c0', 'execution_host_syr-compute-c1', 'execution_host_uc-compute-c0', 'execution_host_uc-compute-c1', 'execution_host_ucsd-compute-c0', 'execution_host_ucsd-compute-c1', 'execution_host_unl-compute-c0', 'execution_host_unl-compute-c1', 'src_label_syr', 'src_label_uc', 'src_label_ucsd', 'src_label_unl', 'dst_label_syr', 'dst_label_uc', 'dst_label_ucsd', 'dst_label_unl', 'flow_syr-submit-syr-compute-c0', 'flow_syr-submit-syr-compute-c1', 'flow_syr-submit-uc-compute-c0', 'flow_syr-submit-uc-compute-c1', 'flow_syr-submit-ucsd-compute-c0', 'flow_syr-submit-ucsd-compute-c1', 'flow_syr-submit-unl-compute-c0', 'flow_syr-submit-unl-compute-c1', 'flow_uc-submit-syr-compute-c0', 'flow_uc-submit-syr-compute-c1', 'flow_uc-submit-uc-compute-c0', 'flow_uc-submit-uc-compute-c1', 'flow_uc-submit-ucsd-compute-c0', 'flow_uc-submit-ucsd-compute-c1', 'flow_uc-submit-unl-compute-c0', 'flow_uc-submit-unl-compute-c1', 'flow_ucsd-submit-syr-compute-c0', 'flow_ucsd-submit-syr-compute-c1', 'flow_ucsd-submit-uc-compute-c0', 'flow_ucsd-submit-uc-compute-c1', 'flow_ucsd-submit-ucsd-compute-c0', 'flow_ucsd-submit-ucsd-compute-c1', 'flow_ucsd-submit-unl-compute-c0', 'flow_ucsd-submit-unl-compute-c1', 'flow_unl-submit-syr-compute-c0', 'flow_unl-submit-syr-compute-c1', 'flow_unl-submit-uc-compute-c0', 'flow_unl-submit-uc-compute-c1', 'flow_unl-submit-ucsd-compute-c0', 'flow_unl-submit-ucsd-compute-c1', 'flow_unl-submit-unl-compute-c1']\n",
      "(2920, 56)\n"
     ]
    }
   ],
   "source": [
    "df_ori,df_dummy,X_complete, y_complete=file_process(input_file,True)\n",
    "label_prob_dict=generate_prob_dict(df_ori,\"corrupt_label\")\n",
    "df_prob = pd.DataFrame.from_dict(label_prob_dict, orient='index')\n",
    "df_prob = df_prob.fillna(0)\n",
    "df_prob = df_prob[(df_prob.T !=0).any()] #drop rows with all zeros: no corruption labels\n",
    "X=df_prob.to_numpy()\n",
    "X=np.nan_to_num(X)\n",
    "#print(X)\n",
    "y=df_prob.index\n",
    "#print(y.shape)"
   ]
  },
  {
   "cell_type": "code",
   "execution_count": 153,
   "metadata": {},
   "outputs": [
    {
     "data": {
      "text/plain": [
       "1.0"
      ]
     },
     "execution_count": 153,
     "metadata": {},
     "output_type": "execute_result"
    }
   ],
   "source": [
    "clf_prob = RandomForestClassifier(max_depth=20, random_state=0)\n",
    "clf_prob.fit(X,y)\n",
    "clf_prob.score(X,y)"
   ]
  },
  {
   "cell_type": "code",
   "execution_count": 154,
   "metadata": {},
   "outputs": [
    {
     "name": "stderr",
     "output_type": "stream",
     "text": [
      "/Users/yxin/anaconda3/lib/python3.7/site-packages/pandas/core/computation/expressions.py:194: UserWarning: evaluating in Python space because the '+' operator is not supported by numexpr for the bool dtype, use '|' instead\n",
      "  op=op_str, alt_op=unsupported[op_str]\n"
     ]
    },
    {
     "name": "stdout",
     "output_type": "stream",
     "text": [
      "Original shape:\n",
      "['root_xwf_id', 'job_id', 'start_time', 'end_time', 'submit_host', 'submit_user', 'execution_host', 'execution_user', 'job_type', 'job_exit_code', 'bytes', 'lfn', 'src_label', 'src_url', 'src_proto_host', 'dst_label', 'dst_url', 'dst_proto_host', 'transfer_success', 'checksum_success', 'actual_checksum', 'expected_checksum', 'scenario', 'corrupt_label', 'corrupt_start', 'corrupt_end', 'corrupt_rate', 'flow', 'FM']\n",
      "Original shape:(44849, 29)\n",
      "Encoded shape:\n",
      "['transfer_success', 'checksum_success', 'bytes', 'corrupt_rate', 'corrupt_label', 'submit_host_syr-submit', 'submit_host_uc-submit', 'submit_host_ucsd-submit', 'submit_host_unl-submit', 'execution_host_syr-compute-c0', 'execution_host_syr-compute-c1', 'execution_host_uc-compute-c0', 'execution_host_uc-compute-c1', 'execution_host_ucsd-compute-c0', 'execution_host_ucsd-compute-c1', 'execution_host_unl-compute-c0', 'execution_host_unl-compute-c1', 'src_label_syr', 'src_label_uc', 'src_label_ucsd', 'src_label_unl', 'dst_label_syr', 'dst_label_uc', 'dst_label_ucsd', 'dst_label_unl', 'flow_syr-submit-syr-compute-c0', 'flow_syr-submit-uc-compute-c0', 'flow_syr-submit-uc-compute-c1', 'flow_syr-submit-ucsd-compute-c0', 'flow_syr-submit-ucsd-compute-c1', 'flow_syr-submit-unl-compute-c0', 'flow_syr-submit-unl-compute-c1', 'flow_uc-submit-syr-compute-c0', 'flow_uc-submit-syr-compute-c1', 'flow_uc-submit-uc-compute-c0', 'flow_uc-submit-ucsd-compute-c0', 'flow_uc-submit-ucsd-compute-c1', 'flow_uc-submit-unl-compute-c0', 'flow_uc-submit-unl-compute-c1', 'flow_ucsd-submit-syr-compute-c0', 'flow_ucsd-submit-syr-compute-c1', 'flow_ucsd-submit-uc-compute-c0', 'flow_ucsd-submit-uc-compute-c1', 'flow_ucsd-submit-ucsd-compute-c0', 'flow_ucsd-submit-ucsd-compute-c1', 'flow_ucsd-submit-unl-compute-c0', 'flow_ucsd-submit-unl-compute-c1', 'flow_unl-submit-syr-compute-c0', 'flow_unl-submit-syr-compute-c1', 'flow_unl-submit-uc-compute-c0', 'flow_unl-submit-uc-compute-c1', 'flow_unl-submit-ucsd-compute-c0', 'flow_unl-submit-ucsd-compute-c1']\n",
      "(2915, 53)\n",
      "X_complete:29\n",
      "X_test:29\n",
      "After imputation:29\n",
      "X_complete:56\n",
      "X_test:53\n",
      "After imputation:56\n",
      "(19, 32)\n",
      "(19, 32)\n"
     ]
    },
    {
     "name": "stderr",
     "output_type": "stream",
     "text": [
      "/Users/yxin/anaconda3/lib/python3.7/site-packages/ipykernel_launcher.py:7: UserWarning: Boolean Series key will be reindexed to match DataFrame index.\n",
      "  import sys\n"
     ]
    },
    {
     "data": {
      "text/plain": [
       "1.0"
      ]
     },
     "execution_count": 154,
     "metadata": {},
     "output_type": "execute_result"
    }
   ],
   "source": [
    "df_t_ori,df_t_dummy,X_t_complete, y_t_complete=file_process(test_file,True)\n",
    "df_t_ori = missing_feature(df_ori, df_t_ori)\n",
    "df_t_dummy = missing_feature(df_dummy, df_t_dummy)\n",
    "label_prob_dict_test=generate_prob_dict(df_t_ori,\"corrupt_label\")\n",
    "df_prob_test = pd.DataFrame.from_dict(label_prob_dict_test, orient='index')\n",
    "df_prob_test = df_prob_test.fillna(0)\n",
    "df_prob_test = df_prob[(df_prob_test.T !=0).any()] #drop rows with all zeros: no corruption labels\n",
    "X_t=df_prob_test.to_numpy()\n",
    "print(X_t.shape)\n",
    "X_t=np.nan_to_num(X_t)\n",
    "print(X_t.shape)\n",
    "y_t=df_prob_test.index\n",
    "#print(y.shape)\n",
    "clf_prob.score(X_t,y_t)"
   ]
  },
  {
   "cell_type": "code",
   "execution_count": 162,
   "metadata": {},
   "outputs": [
    {
     "data": {
      "text/plain": [
       "array(['unl.cache '], dtype=object)"
      ]
     },
     "execution_count": 162,
     "metadata": {},
     "output_type": "execute_result"
    }
   ],
   "source": [
    "clf_prob.predict([X_t[0]])"
   ]
  },
  {
   "cell_type": "code",
   "execution_count": 163,
   "metadata": {},
   "outputs": [
    {
     "data": {
      "text/plain": [
       "'unl.cache '"
      ]
     },
     "execution_count": 163,
     "metadata": {},
     "output_type": "execute_result"
    }
   ],
   "source": [
    "y_t[0]"
   ]
  },
  {
   "cell_type": "code",
   "execution_count": null,
   "metadata": {},
   "outputs": [],
   "source": [
    "## not important data "
   ]
  },
  {
   "cell_type": "code",
   "execution_count": 141,
   "metadata": {},
   "outputs": [],
   "source": [
    "df_prob_test=df_prob[(df_prob['ucsd-submit-syr-compute-c0']!=0) | (df_prob['ucsd-submit-ucsd-compute-c1']!=0) | (df_prob['ucsd-submit-unl-compute-c0']!=0)]"
   ]
  },
  {
   "cell_type": "code",
   "execution_count": 142,
   "metadata": {},
   "outputs": [
    {
     "name": "stdout",
     "output_type": "stream",
     "text": [
      "[[0.         0.         0.19269103 0.         0.         0.\n",
      "  0.         0.         0.         0.         0.         0.\n",
      "  0.         0.06       0.         0.         0.15714286 0.\n",
      "  0.45238095 0.28571429 0.         0.52380952 0.         0.3877551\n",
      "  0.         0.         0.         0.         0.         0.\n",
      "  0.         0.         0.        ]\n",
      " [0.03265306 0.         0.         0.         0.         0.\n",
      "  0.         0.         0.         0.60714286 0.         0.\n",
      "  0.21580547 0.         0.         0.         0.         0.\n",
      "  0.         0.         0.         0.         0.         0.\n",
      "  0.         0.13928571 0.         0.         0.         0.\n",
      "  0.         0.         0.        ]\n",
      " [0.         0.12857143 0.         0.         0.         0.\n",
      "  0.         0.06015038 0.         0.         0.         0.\n",
      "  0.         0.         0.08571429 0.09243697 0.         0.\n",
      "  0.         0.         0.         0.         0.         0.\n",
      "  0.         0.         0.45454545 0.         0.57142857 0.\n",
      "  0.         0.         0.        ]\n",
      " [0.         0.         0.18181818 0.         0.35064935 0.\n",
      "  0.         0.         0.         0.         0.         0.29206349\n",
      "  0.         0.         0.         0.         0.         0.\n",
      "  0.         0.         0.57142857 0.         0.         0.42857143\n",
      "  0.         0.18907563 0.71428571 0.         0.57142857 0.\n",
      "  0.         0.         0.        ]]\n"
     ]
    }
   ],
   "source": [
    "X_test=df_prob_test.to_numpy()\n",
    "X_test=np.nan_to_num(X_test)\n",
    "print(X_test)\n",
    "y_test=df_prob_test.index"
   ]
  },
  {
   "cell_type": "code",
   "execution_count": 146,
   "metadata": {},
   "outputs": [],
   "source": [
    "from sklearn.gaussian_process import GaussianProcessClassifier\n",
    "from sklearn.gaussian_process.kernels import RBF"
   ]
  },
  {
   "cell_type": "code",
   "execution_count": 147,
   "metadata": {},
   "outputs": [],
   "source": [
    "kernel = 1.0 * RBF([1.0])\n",
    "gpc_rbf_isotropic = GaussianProcessClassifier(kernel=kernel).fit(X, y)"
   ]
  },
  {
   "cell_type": "code",
   "execution_count": 148,
   "metadata": {},
   "outputs": [
    {
     "name": "stdout",
     "output_type": "stream",
     "text": [
      "0.2857142857142857\n"
     ]
    }
   ],
   "source": [
    "score=gpc_rbf_isotropic.score(X,y)\n",
    "print(score)"
   ]
  },
  {
   "cell_type": "code",
   "execution_count": 149,
   "metadata": {},
   "outputs": [
    {
     "data": {
      "text/plain": [
       "0.2857142857142857"
      ]
     },
     "execution_count": 149,
     "metadata": {},
     "output_type": "execute_result"
    }
   ],
   "source": [
    "gpc_rbf_isotropic.score(X, y)"
   ]
  },
  {
   "cell_type": "code",
   "execution_count": 161,
   "metadata": {},
   "outputs": [
    {
     "data": {
      "text/html": [
       "<div>\n",
       "<style scoped>\n",
       "    .dataframe tbody tr th:only-of-type {\n",
       "        vertical-align: middle;\n",
       "    }\n",
       "\n",
       "    .dataframe tbody tr th {\n",
       "        vertical-align: top;\n",
       "    }\n",
       "\n",
       "    .dataframe thead th {\n",
       "        text-align: right;\n",
       "    }\n",
       "</style>\n",
       "<table border=\"1\" class=\"dataframe\">\n",
       "  <thead>\n",
       "    <tr style=\"text-align: right;\">\n",
       "      <th></th>\n",
       "      <th>root_xwf_id</th>\n",
       "      <th>job_id</th>\n",
       "      <th>start_time</th>\n",
       "      <th>end_time</th>\n",
       "      <th>submit_host</th>\n",
       "      <th>submit_user</th>\n",
       "      <th>execution_host</th>\n",
       "      <th>execution_user</th>\n",
       "      <th>job_type</th>\n",
       "      <th>job_exit_code</th>\n",
       "      <th>...</th>\n",
       "      <th>checksum_success</th>\n",
       "      <th>actual_checksum</th>\n",
       "      <th>expected_checksum</th>\n",
       "      <th>scenario</th>\n",
       "      <th>corrupt_label</th>\n",
       "      <th>corrupt_start</th>\n",
       "      <th>corrupt_end</th>\n",
       "      <th>corrupt_rate</th>\n",
       "      <th>flow</th>\n",
       "      <th>FM</th>\n",
       "    </tr>\n",
       "  </thead>\n",
       "  <tbody>\n",
       "  </tbody>\n",
       "</table>\n",
       "<p>0 rows × 29 columns</p>\n",
       "</div>"
      ],
      "text/plain": [
       "Empty DataFrame\n",
       "Columns: [root_xwf_id, job_id, start_time, end_time, submit_host, submit_user, execution_host, execution_user, job_type, job_exit_code, bytes, lfn, src_label, src_url, src_proto_host, dst_label, dst_url, dst_proto_host, transfer_success, checksum_success, actual_checksum, expected_checksum, scenario, corrupt_label, corrupt_start, corrupt_end, corrupt_rate, flow, FM]\n",
       "Index: []\n",
       "\n",
       "[0 rows x 29 columns]"
      ]
     },
     "metadata": {},
     "output_type": "display_data"
    }
   ],
   "source": [
    "df_c=df_ori[(df_ori['corrupt_label']==\"syr-cache \")]\n",
    "display(df_c)"
   ]
  },
  {
   "cell_type": "code",
   "execution_count": 159,
   "metadata": {
    "scrolled": true
   },
   "outputs": [
    {
     "name": "stdout",
     "output_type": "stream",
     "text": [
      "1\n",
      "69\n"
     ]
    },
    {
     "data": {
      "text/html": [
       "<div>\n",
       "<style scoped>\n",
       "    .dataframe tbody tr th:only-of-type {\n",
       "        vertical-align: middle;\n",
       "    }\n",
       "\n",
       "    .dataframe tbody tr th {\n",
       "        vertical-align: top;\n",
       "    }\n",
       "\n",
       "    .dataframe thead th {\n",
       "        text-align: right;\n",
       "    }\n",
       "</style>\n",
       "<table border=\"1\" class=\"dataframe\">\n",
       "  <thead>\n",
       "    <tr style=\"text-align: right;\">\n",
       "      <th></th>\n",
       "      <th>root_xwf_id</th>\n",
       "      <th>job_id</th>\n",
       "      <th>start_time</th>\n",
       "      <th>end_time</th>\n",
       "      <th>submit_host</th>\n",
       "      <th>submit_user</th>\n",
       "      <th>execution_host</th>\n",
       "      <th>execution_user</th>\n",
       "      <th>job_type</th>\n",
       "      <th>job_exit_code</th>\n",
       "      <th>...</th>\n",
       "      <th>checksum_success</th>\n",
       "      <th>actual_checksum</th>\n",
       "      <th>expected_checksum</th>\n",
       "      <th>scenario</th>\n",
       "      <th>corrupt_label</th>\n",
       "      <th>corrupt_start</th>\n",
       "      <th>corrupt_end</th>\n",
       "      <th>corrupt_rate</th>\n",
       "      <th>flow</th>\n",
       "      <th>FM</th>\n",
       "    </tr>\n",
       "  </thead>\n",
       "  <tbody>\n",
       "    <tr>\n",
       "      <td>26412</td>\n",
       "      <td>fb62a7b5-6065-47db-87b7-4911e6a6c8db</td>\n",
       "      <td>job_sh_ID0000014</td>\n",
       "      <td>1610729088</td>\n",
       "      <td>1610729092</td>\n",
       "      <td>uc-submit</td>\n",
       "      <td>ericafu</td>\n",
       "      <td>syr-compute-c0</td>\n",
       "      <td>ericafu</td>\n",
       "      <td>compute</td>\n",
       "      <td>256</td>\n",
       "      <td>...</td>\n",
       "      <td>False</td>\n",
       "      <td>e4112749f170fc8ab108d93f2795aa1c415dc16745fb5e...</td>\n",
       "      <td>2416276f6d923db58f9a998346cfd386c4c33188b92461...</td>\n",
       "      <td>bypass</td>\n",
       "      <td>cenic.Link12</td>\n",
       "      <td>1.610729e+09</td>\n",
       "      <td>1.610731e+09</td>\n",
       "      <td>0.02</td>\n",
       "      <td>uc-submit-syr-compute-c0</td>\n",
       "      <td>True</td>\n",
       "    </tr>\n",
       "    <tr>\n",
       "      <td>26413</td>\n",
       "      <td>fb62a7b5-6065-47db-87b7-4911e6a6c8db</td>\n",
       "      <td>job_sh_ID0000014</td>\n",
       "      <td>1610729088</td>\n",
       "      <td>1610729092</td>\n",
       "      <td>uc-submit</td>\n",
       "      <td>ericafu</td>\n",
       "      <td>syr-compute-c0</td>\n",
       "      <td>ericafu</td>\n",
       "      <td>compute</td>\n",
       "      <td>256</td>\n",
       "      <td>...</td>\n",
       "      <td>False</td>\n",
       "      <td>f637cd2bbbc74fffc19841c625956c60a248b74207b6a0...</td>\n",
       "      <td>66a1e5e51e526d106f1d9cd00a6c2cd05ba536c698b6c6...</td>\n",
       "      <td>bypass</td>\n",
       "      <td>cenic.Link12</td>\n",
       "      <td>1.610729e+09</td>\n",
       "      <td>1.610731e+09</td>\n",
       "      <td>0.02</td>\n",
       "      <td>uc-submit-syr-compute-c0</td>\n",
       "      <td>True</td>\n",
       "    </tr>\n",
       "    <tr>\n",
       "      <td>26414</td>\n",
       "      <td>fb62a7b5-6065-47db-87b7-4911e6a6c8db</td>\n",
       "      <td>job_sh_ID0000014</td>\n",
       "      <td>1610729088</td>\n",
       "      <td>1610729092</td>\n",
       "      <td>uc-submit</td>\n",
       "      <td>ericafu</td>\n",
       "      <td>syr-compute-c0</td>\n",
       "      <td>ericafu</td>\n",
       "      <td>compute</td>\n",
       "      <td>256</td>\n",
       "      <td>...</td>\n",
       "      <td>False</td>\n",
       "      <td>16df662f7bc1813cdf1e0ffe17979da2c7e130b7379eaf...</td>\n",
       "      <td>0bab203b629d88b4ce760122fddeecc39879f31389e1a7...</td>\n",
       "      <td>bypass</td>\n",
       "      <td>cenic.Link12</td>\n",
       "      <td>1.610729e+09</td>\n",
       "      <td>1.610731e+09</td>\n",
       "      <td>0.02</td>\n",
       "      <td>uc-submit-syr-compute-c0</td>\n",
       "      <td>True</td>\n",
       "    </tr>\n",
       "    <tr>\n",
       "      <td>26415</td>\n",
       "      <td>fb62a7b5-6065-47db-87b7-4911e6a6c8db</td>\n",
       "      <td>job_sh_ID0000014</td>\n",
       "      <td>1610729088</td>\n",
       "      <td>1610729092</td>\n",
       "      <td>uc-submit</td>\n",
       "      <td>ericafu</td>\n",
       "      <td>syr-compute-c0</td>\n",
       "      <td>ericafu</td>\n",
       "      <td>compute</td>\n",
       "      <td>256</td>\n",
       "      <td>...</td>\n",
       "      <td>False</td>\n",
       "      <td>aa889a05a5c9c0d56373a3053eb3ede5aa11f1e865195b...</td>\n",
       "      <td>bf239774fe1bcf1895e2c3c550c1f4f0be5edc223ebaee...</td>\n",
       "      <td>bypass</td>\n",
       "      <td>cenic.Link12</td>\n",
       "      <td>1.610729e+09</td>\n",
       "      <td>1.610731e+09</td>\n",
       "      <td>0.02</td>\n",
       "      <td>uc-submit-syr-compute-c0</td>\n",
       "      <td>True</td>\n",
       "    </tr>\n",
       "    <tr>\n",
       "      <td>26416</td>\n",
       "      <td>fb62a7b5-6065-47db-87b7-4911e6a6c8db</td>\n",
       "      <td>job_sh_ID0000014</td>\n",
       "      <td>1610729088</td>\n",
       "      <td>1610729092</td>\n",
       "      <td>uc-submit</td>\n",
       "      <td>ericafu</td>\n",
       "      <td>syr-compute-c0</td>\n",
       "      <td>ericafu</td>\n",
       "      <td>compute</td>\n",
       "      <td>256</td>\n",
       "      <td>...</td>\n",
       "      <td>False</td>\n",
       "      <td>993b0c4e7e46085567af2f4f7762931bda5b2fed111e63...</td>\n",
       "      <td>096a0681b644e28d0082f26ac153459ed15484ba26201f...</td>\n",
       "      <td>bypass</td>\n",
       "      <td>cenic.Link12</td>\n",
       "      <td>1.610729e+09</td>\n",
       "      <td>1.610731e+09</td>\n",
       "      <td>0.02</td>\n",
       "      <td>uc-submit-syr-compute-c0</td>\n",
       "      <td>True</td>\n",
       "    </tr>\n",
       "    <tr>\n",
       "      <td>...</td>\n",
       "      <td>...</td>\n",
       "      <td>...</td>\n",
       "      <td>...</td>\n",
       "      <td>...</td>\n",
       "      <td>...</td>\n",
       "      <td>...</td>\n",
       "      <td>...</td>\n",
       "      <td>...</td>\n",
       "      <td>...</td>\n",
       "      <td>...</td>\n",
       "      <td>...</td>\n",
       "      <td>...</td>\n",
       "      <td>...</td>\n",
       "      <td>...</td>\n",
       "      <td>...</td>\n",
       "      <td>...</td>\n",
       "      <td>...</td>\n",
       "      <td>...</td>\n",
       "      <td>...</td>\n",
       "      <td>...</td>\n",
       "      <td>...</td>\n",
       "    </tr>\n",
       "    <tr>\n",
       "      <td>27645</td>\n",
       "      <td>fb62a7b5-6065-47db-87b7-4911e6a6c8db</td>\n",
       "      <td>job_sh_ID0000029</td>\n",
       "      <td>1610730835</td>\n",
       "      <td>1610730839</td>\n",
       "      <td>uc-submit</td>\n",
       "      <td>ericafu</td>\n",
       "      <td>syr-compute-c0</td>\n",
       "      <td>ericafu</td>\n",
       "      <td>compute</td>\n",
       "      <td>256</td>\n",
       "      <td>...</td>\n",
       "      <td>False</td>\n",
       "      <td>7fb8b57ff5accc24887b567f4b1c9ff735b57abd4c9b4f...</td>\n",
       "      <td>7902fe2217fc7ac847e40d8b7fdec6bf820520918be642...</td>\n",
       "      <td>bypass</td>\n",
       "      <td>cenic.Link12</td>\n",
       "      <td>1.610729e+09</td>\n",
       "      <td>1.610731e+09</td>\n",
       "      <td>0.02</td>\n",
       "      <td>uc-submit-syr-compute-c0</td>\n",
       "      <td>True</td>\n",
       "    </tr>\n",
       "    <tr>\n",
       "      <td>27655</td>\n",
       "      <td>fb62a7b5-6065-47db-87b7-4911e6a6c8db</td>\n",
       "      <td>job_sh_ID0000009</td>\n",
       "      <td>1610730854</td>\n",
       "      <td>1610730858</td>\n",
       "      <td>uc-submit</td>\n",
       "      <td>ericafu</td>\n",
       "      <td>syr-compute-c0</td>\n",
       "      <td>ericafu</td>\n",
       "      <td>compute</td>\n",
       "      <td>256</td>\n",
       "      <td>...</td>\n",
       "      <td>False</td>\n",
       "      <td>1b15d9fe9b2e43e9027450d154e8c45476c9a7b64fc591...</td>\n",
       "      <td>66a1e5e51e526d106f1d9cd00a6c2cd05ba536c698b6c6...</td>\n",
       "      <td>bypass</td>\n",
       "      <td>cenic.Link12</td>\n",
       "      <td>1.610729e+09</td>\n",
       "      <td>1.610731e+09</td>\n",
       "      <td>0.02</td>\n",
       "      <td>uc-submit-syr-compute-c0</td>\n",
       "      <td>True</td>\n",
       "    </tr>\n",
       "    <tr>\n",
       "      <td>27656</td>\n",
       "      <td>fb62a7b5-6065-47db-87b7-4911e6a6c8db</td>\n",
       "      <td>job_sh_ID0000009</td>\n",
       "      <td>1610730854</td>\n",
       "      <td>1610730858</td>\n",
       "      <td>uc-submit</td>\n",
       "      <td>ericafu</td>\n",
       "      <td>syr-compute-c0</td>\n",
       "      <td>ericafu</td>\n",
       "      <td>compute</td>\n",
       "      <td>256</td>\n",
       "      <td>...</td>\n",
       "      <td>False</td>\n",
       "      <td>10bac0ab7f34d814cff569c059098e3a331746d7c327b5...</td>\n",
       "      <td>0bab203b629d88b4ce760122fddeecc39879f31389e1a7...</td>\n",
       "      <td>bypass</td>\n",
       "      <td>cenic.Link12</td>\n",
       "      <td>1.610729e+09</td>\n",
       "      <td>1.610731e+09</td>\n",
       "      <td>0.02</td>\n",
       "      <td>uc-submit-syr-compute-c0</td>\n",
       "      <td>True</td>\n",
       "    </tr>\n",
       "    <tr>\n",
       "      <td>27657</td>\n",
       "      <td>fb62a7b5-6065-47db-87b7-4911e6a6c8db</td>\n",
       "      <td>job_sh_ID0000009</td>\n",
       "      <td>1610730854</td>\n",
       "      <td>1610730858</td>\n",
       "      <td>uc-submit</td>\n",
       "      <td>ericafu</td>\n",
       "      <td>syr-compute-c0</td>\n",
       "      <td>ericafu</td>\n",
       "      <td>compute</td>\n",
       "      <td>256</td>\n",
       "      <td>...</td>\n",
       "      <td>False</td>\n",
       "      <td>e51caf24845513a3c946af5623a6ebecc5f4ec586338bd...</td>\n",
       "      <td>bf239774fe1bcf1895e2c3c550c1f4f0be5edc223ebaee...</td>\n",
       "      <td>bypass</td>\n",
       "      <td>cenic.Link12</td>\n",
       "      <td>1.610729e+09</td>\n",
       "      <td>1.610731e+09</td>\n",
       "      <td>0.02</td>\n",
       "      <td>uc-submit-syr-compute-c0</td>\n",
       "      <td>True</td>\n",
       "    </tr>\n",
       "    <tr>\n",
       "      <td>27658</td>\n",
       "      <td>fb62a7b5-6065-47db-87b7-4911e6a6c8db</td>\n",
       "      <td>job_sh_ID0000009</td>\n",
       "      <td>1610730854</td>\n",
       "      <td>1610730858</td>\n",
       "      <td>uc-submit</td>\n",
       "      <td>ericafu</td>\n",
       "      <td>syr-compute-c0</td>\n",
       "      <td>ericafu</td>\n",
       "      <td>compute</td>\n",
       "      <td>256</td>\n",
       "      <td>...</td>\n",
       "      <td>False</td>\n",
       "      <td>08d6fb784746fefd2b1f82ffb25e625219b939331d5d42...</td>\n",
       "      <td>096a0681b644e28d0082f26ac153459ed15484ba26201f...</td>\n",
       "      <td>bypass</td>\n",
       "      <td>cenic.Link12</td>\n",
       "      <td>1.610729e+09</td>\n",
       "      <td>1.610731e+09</td>\n",
       "      <td>0.02</td>\n",
       "      <td>uc-submit-syr-compute-c0</td>\n",
       "      <td>True</td>\n",
       "    </tr>\n",
       "  </tbody>\n",
       "</table>\n",
       "<p>69 rows × 29 columns</p>\n",
       "</div>"
      ],
      "text/plain": [
       "                                root_xwf_id            job_id  start_time  \\\n",
       "26412  fb62a7b5-6065-47db-87b7-4911e6a6c8db  job_sh_ID0000014  1610729088   \n",
       "26413  fb62a7b5-6065-47db-87b7-4911e6a6c8db  job_sh_ID0000014  1610729088   \n",
       "26414  fb62a7b5-6065-47db-87b7-4911e6a6c8db  job_sh_ID0000014  1610729088   \n",
       "26415  fb62a7b5-6065-47db-87b7-4911e6a6c8db  job_sh_ID0000014  1610729088   \n",
       "26416  fb62a7b5-6065-47db-87b7-4911e6a6c8db  job_sh_ID0000014  1610729088   \n",
       "...                                     ...               ...         ...   \n",
       "27645  fb62a7b5-6065-47db-87b7-4911e6a6c8db  job_sh_ID0000029  1610730835   \n",
       "27655  fb62a7b5-6065-47db-87b7-4911e6a6c8db  job_sh_ID0000009  1610730854   \n",
       "27656  fb62a7b5-6065-47db-87b7-4911e6a6c8db  job_sh_ID0000009  1610730854   \n",
       "27657  fb62a7b5-6065-47db-87b7-4911e6a6c8db  job_sh_ID0000009  1610730854   \n",
       "27658  fb62a7b5-6065-47db-87b7-4911e6a6c8db  job_sh_ID0000009  1610730854   \n",
       "\n",
       "         end_time submit_host submit_user  execution_host execution_user  \\\n",
       "26412  1610729092   uc-submit     ericafu  syr-compute-c0        ericafu   \n",
       "26413  1610729092   uc-submit     ericafu  syr-compute-c0        ericafu   \n",
       "26414  1610729092   uc-submit     ericafu  syr-compute-c0        ericafu   \n",
       "26415  1610729092   uc-submit     ericafu  syr-compute-c0        ericafu   \n",
       "26416  1610729092   uc-submit     ericafu  syr-compute-c0        ericafu   \n",
       "...           ...         ...         ...             ...            ...   \n",
       "27645  1610730839   uc-submit     ericafu  syr-compute-c0        ericafu   \n",
       "27655  1610730858   uc-submit     ericafu  syr-compute-c0        ericafu   \n",
       "27656  1610730858   uc-submit     ericafu  syr-compute-c0        ericafu   \n",
       "27657  1610730858   uc-submit     ericafu  syr-compute-c0        ericafu   \n",
       "27658  1610730858   uc-submit     ericafu  syr-compute-c0        ericafu   \n",
       "\n",
       "      job_type  job_exit_code  ...  checksum_success  \\\n",
       "26412  compute            256  ...             False   \n",
       "26413  compute            256  ...             False   \n",
       "26414  compute            256  ...             False   \n",
       "26415  compute            256  ...             False   \n",
       "26416  compute            256  ...             False   \n",
       "...        ...            ...  ...               ...   \n",
       "27645  compute            256  ...             False   \n",
       "27655  compute            256  ...             False   \n",
       "27656  compute            256  ...             False   \n",
       "27657  compute            256  ...             False   \n",
       "27658  compute            256  ...             False   \n",
       "\n",
       "                                         actual_checksum  \\\n",
       "26412  e4112749f170fc8ab108d93f2795aa1c415dc16745fb5e...   \n",
       "26413  f637cd2bbbc74fffc19841c625956c60a248b74207b6a0...   \n",
       "26414  16df662f7bc1813cdf1e0ffe17979da2c7e130b7379eaf...   \n",
       "26415  aa889a05a5c9c0d56373a3053eb3ede5aa11f1e865195b...   \n",
       "26416  993b0c4e7e46085567af2f4f7762931bda5b2fed111e63...   \n",
       "...                                                  ...   \n",
       "27645  7fb8b57ff5accc24887b567f4b1c9ff735b57abd4c9b4f...   \n",
       "27655  1b15d9fe9b2e43e9027450d154e8c45476c9a7b64fc591...   \n",
       "27656  10bac0ab7f34d814cff569c059098e3a331746d7c327b5...   \n",
       "27657  e51caf24845513a3c946af5623a6ebecc5f4ec586338bd...   \n",
       "27658  08d6fb784746fefd2b1f82ffb25e625219b939331d5d42...   \n",
       "\n",
       "                                       expected_checksum scenario  \\\n",
       "26412  2416276f6d923db58f9a998346cfd386c4c33188b92461...   bypass   \n",
       "26413  66a1e5e51e526d106f1d9cd00a6c2cd05ba536c698b6c6...   bypass   \n",
       "26414  0bab203b629d88b4ce760122fddeecc39879f31389e1a7...   bypass   \n",
       "26415  bf239774fe1bcf1895e2c3c550c1f4f0be5edc223ebaee...   bypass   \n",
       "26416  096a0681b644e28d0082f26ac153459ed15484ba26201f...   bypass   \n",
       "...                                                  ...      ...   \n",
       "27645  7902fe2217fc7ac847e40d8b7fdec6bf820520918be642...   bypass   \n",
       "27655  66a1e5e51e526d106f1d9cd00a6c2cd05ba536c698b6c6...   bypass   \n",
       "27656  0bab203b629d88b4ce760122fddeecc39879f31389e1a7...   bypass   \n",
       "27657  bf239774fe1bcf1895e2c3c550c1f4f0be5edc223ebaee...   bypass   \n",
       "27658  096a0681b644e28d0082f26ac153459ed15484ba26201f...   bypass   \n",
       "\n",
       "       corrupt_label corrupt_start   corrupt_end corrupt_rate  \\\n",
       "26412  cenic.Link12   1.610729e+09  1.610731e+09         0.02   \n",
       "26413  cenic.Link12   1.610729e+09  1.610731e+09         0.02   \n",
       "26414  cenic.Link12   1.610729e+09  1.610731e+09         0.02   \n",
       "26415  cenic.Link12   1.610729e+09  1.610731e+09         0.02   \n",
       "26416  cenic.Link12   1.610729e+09  1.610731e+09         0.02   \n",
       "...              ...           ...           ...          ...   \n",
       "27645  cenic.Link12   1.610729e+09  1.610731e+09         0.02   \n",
       "27655  cenic.Link12   1.610729e+09  1.610731e+09         0.02   \n",
       "27656  cenic.Link12   1.610729e+09  1.610731e+09         0.02   \n",
       "27657  cenic.Link12   1.610729e+09  1.610731e+09         0.02   \n",
       "27658  cenic.Link12   1.610729e+09  1.610731e+09         0.02   \n",
       "\n",
       "                           flow    FM  \n",
       "26412  uc-submit-syr-compute-c0  True  \n",
       "26413  uc-submit-syr-compute-c0  True  \n",
       "26414  uc-submit-syr-compute-c0  True  \n",
       "26415  uc-submit-syr-compute-c0  True  \n",
       "26416  uc-submit-syr-compute-c0  True  \n",
       "...                         ...   ...  \n",
       "27645  uc-submit-syr-compute-c0  True  \n",
       "27655  uc-submit-syr-compute-c0  True  \n",
       "27656  uc-submit-syr-compute-c0  True  \n",
       "27657  uc-submit-syr-compute-c0  True  \n",
       "27658  uc-submit-syr-compute-c0  True  \n",
       "\n",
       "[69 rows x 29 columns]"
      ]
     },
     "metadata": {},
     "output_type": "display_data"
    }
   ],
   "source": [
    "df_c=df_ori[(df_ori['checksum_success']==False)&(df_ori['execution_host']=='syr-compute-c0')&(df_ori['corrupt_label']=='cenic.Link12 ')]\n",
    "print(len(df))\n",
    "print(len(df_c))\n",
    "#df_c=df[(df['corrupt_label']==\"unl-compute-c1\")]\n",
    "display(df_c)"
   ]
  },
  {
   "cell_type": "code",
   "execution_count": 151,
   "metadata": {},
   "outputs": [
    {
     "data": {
      "text/plain": [
       "array(['cenic.Link0 ', 'cenic.Link1 ', 'cenic.Link12 ', 'cenic.Link9 ',\n",
       "       'esnet.Link2 ', 'esnet.Link22 ', 'internet2.Link0 ',\n",
       "       'internet2.Link14 ', 'internet2.Link6 ', 'starlight.Link24 ',\n",
       "       'starlight.Link6 ', 'syr.compute.c0.Link26 ',\n",
       "       'syr.router.n2.Link24 ', 'uc.compute.c0.Link3 ',\n",
       "       'uc.compute.c1.Link4 ', 'uc.router.n0.Link12 ',\n",
       "       'ucsd.compute.c0.Link23 ', 'ucsd.compute.c1.Link13 ',\n",
       "       'ucsd.router.n3.Link22 ', 'unl.compute.c1.Link16 ',\n",
       "       'unl.router.n1.Link14 '], dtype=object)"
      ]
     },
     "execution_count": 151,
     "metadata": {},
     "output_type": "execute_result"
    }
   ],
   "source": [
    "gpc_rbf_isotropic.classes_"
   ]
  },
  {
   "cell_type": "code",
   "execution_count": null,
   "metadata": {},
   "outputs": [],
   "source": []
  },
  {
   "cell_type": "code",
   "execution_count": null,
   "metadata": {},
   "outputs": [],
   "source": []
  },
  {
   "cell_type": "code",
   "execution_count": null,
   "metadata": {},
   "outputs": [],
   "source": []
  }
 ],
 "metadata": {
  "kernelspec": {
   "display_name": "Python 3",
   "language": "python",
   "name": "python3"
  },
  "language_info": {
   "codemirror_mode": {
    "name": "ipython",
    "version": 3
   },
   "file_extension": ".py",
   "mimetype": "text/x-python",
   "name": "python",
   "nbconvert_exporter": "python",
   "pygments_lexer": "ipython3",
   "version": "3.7.4"
  }
 },
 "nbformat": 4,
 "nbformat_minor": 2
}
