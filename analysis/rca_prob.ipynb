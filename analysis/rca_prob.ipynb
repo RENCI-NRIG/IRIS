{
 "cells": [
  {
   "cell_type": "code",
   "execution_count": 1,
   "metadata": {},
   "outputs": [],
   "source": [
    "import numpy as np\n",
    "import pandas as pd\n",
    "import seaborn as sns\n",
    "import matplotlib.pyplot as plt\n",
    "from collections import Counter"
   ]
  },
  {
   "cell_type": "code",
   "execution_count": 2,
   "metadata": {},
   "outputs": [],
   "source": [
    "#input_file = \"./output_20200219_2125PM.csv\"\n",
    "input_file = \"../data/exogeni/output_20210207_1732PM/output_20210207_1732PM.csv\" #OSG Big Topology\n",
    "df = pd.read_csv(input_file, header = 0)"
   ]
  },
  {
   "cell_type": "code",
   "execution_count": 3,
   "metadata": {},
   "outputs": [
    {
     "data": {
      "text/plain": [
       "(13018740, 15)"
      ]
     },
     "execution_count": 3,
     "metadata": {},
     "output_type": "execute_result"
    }
   ],
   "source": [
    "df.shape"
   ]
  },
  {
   "cell_type": "code",
   "execution_count": 4,
   "metadata": {},
   "outputs": [],
   "source": [
    "df['FLOW'] = df['SRCNODE']+'-'+df['DESTNODE']\n",
    "df['FM']=df['FAILURE']+df['MISSING']"
   ]
  },
  {
   "cell_type": "code",
   "execution_count": 5,
   "metadata": {},
   "outputs": [],
   "source": [
    "df_f=df[df['FM']==1]"
   ]
  },
  {
   "cell_type": "code",
   "execution_count": 6,
   "metadata": {},
   "outputs": [
    {
     "data": {
      "text/plain": [
       "(63159, 17)"
      ]
     },
     "execution_count": 6,
     "metadata": {},
     "output_type": "execute_result"
    }
   ],
   "source": [
    "df_f.shape"
   ]
  },
  {
   "cell_type": "code",
   "execution_count": 7,
   "metadata": {},
   "outputs": [],
   "source": [
    "def generate_prob_dict(df):\n",
    "    # summarize the class distribution\n",
    "    #target = df.values[:,-5]\n",
    "    target = df['LABEL']\n",
    "    counter = Counter(target)\n",
    "    label_prob_dict={}\n",
    "    for k,v in counter.items():\n",
    "        per = v / len(target) * 100\n",
    "        #print('Class=%s, Count=%d, Percentage=%.3f%%' % (k, v, per))\n",
    "        df_c=df[(df['LABEL']==k)]\n",
    "        target_flow=df_c['FLOW']\n",
    "        counter_flow = Counter(target_flow)\n",
    "        flow_prob_dict={}\n",
    "        for i,j in counter_flow.items():\n",
    "            #print(i+\":\"+str(j)+\":\"+str(len(target_flow)))\n",
    "            per_flow = j / len(target_flow) * 100\n",
    "            #print('flow=%s, Count=%d, Per__flow=%.3f%%' % (i, j, per_flow))\n",
    "            df_flow=df_c[(df_c['FLOW']==i)]\n",
    "            flow_count=df_flow['FM'].value_counts(normalize=True)\n",
    "            #print(flow_count.index.tolist())\n",
    "            #print(flow_count.values.tolist())\n",
    "            flow_count_dict=flow_count.to_dict()\n",
    "            #print(flow_count_dict)\n",
    "            if 1 in flow_count_dict:\n",
    "                flow_prob_dict[i]=flow_count_dict[1]\n",
    "            else:\n",
    "                flow_prob_dict[i]=0\n",
    "        label_prob_dict[k]=flow_prob_dict\n",
    "    return label_prob_dict"
   ]
  },
  {
   "cell_type": "code",
   "execution_count": 8,
   "metadata": {},
   "outputs": [],
   "source": [
    "def generate_prob_sample_df(df, sample_set, frac):\n",
    "    frames=[]\n",
    "    for k in range(sample_set):\n",
    "        df_sample = df.sample(frac=frac, random_state=1)\n",
    "        label_prob_dict=generate_prob_dict(df_sample)\n",
    "        #'index': label, the key of the dict, is the row\n",
    "        df_prob = pd.DataFrame.from_dict(label_prob_dict, orient='index')\n",
    "        frames.append(df_prob)\n",
    "    result = pd.concat(frames)\n",
    "    X=result.to_numpy()\n",
    "    X=np.nan_to_num(X)\n",
    "    #print(X)\n",
    "    y=result.index\n",
    "    return X,y"
   ]
  },
  {
   "cell_type": "code",
   "execution_count": 9,
   "metadata": {},
   "outputs": [],
   "source": [
    "def generate_prob_df(df):\n",
    "    label_prob_dict=generate_prob_dict(df)\n",
    "    #'index': label, the key of the dict, is the row\n",
    "    df_prob = pd.DataFrame.from_dict(label_prob_dict, orient='index')\n",
    "    X=df_prob.to_numpy()\n",
    "    X=np.nan_to_num(X)\n",
    "    #print(X)\n",
    "    y=df_prob.index\n",
    "    return X,y"
   ]
  },
  {
   "cell_type": "code",
   "execution_count": 10,
   "metadata": {},
   "outputs": [],
   "source": [
    "# grid search kernel for gaussian process classifier\n",
    "from sklearn.datasets import make_classification\n",
    "from sklearn.model_selection import GridSearchCV\n",
    "from sklearn.model_selection import RepeatedStratifiedKFold\n",
    "from sklearn.gaussian_process import GaussianProcessClassifier\n",
    "from sklearn.gaussian_process.kernels import RBF\n",
    "from sklearn.gaussian_process.kernels import DotProduct\n",
    "from sklearn.gaussian_process.kernels import Matern\n",
    "from sklearn.gaussian_process.kernels import RationalQuadratic\n",
    "from sklearn.gaussian_process.kernels import WhiteKernel"
   ]
  },
  {
   "cell_type": "code",
   "execution_count": 11,
   "metadata": {},
   "outputs": [],
   "source": [
    "def GP_cv_learn(X, y):\n",
    "    # define model\n",
    "    model = GaussianProcessClassifier()\n",
    "    # define model evaluation method\n",
    "    cv = RepeatedStratifiedKFold(n_splits=2, n_repeats=3, random_state=1)\n",
    "    # define grid\n",
    "    grid = dict()\n",
    "    grid['kernel'] = [1*RBF(), 1*DotProduct(), 1*Matern(),  1*RationalQuadratic(), 1*WhiteKernel()]\n",
    "    # define search\n",
    "    search = GridSearchCV(model, grid, scoring='accuracy', cv=cv, n_jobs=-1)\n",
    "    #search = GridSearchCV(model, grid, scoring='accuracy')\n",
    "    # perform the search\n",
    "    results = search.fit(X, y)\n",
    "    # summarize best\n",
    "    print('Best Mean Accuracy: %.3f' % results.best_score_)\n",
    "    print('Best Config: %s' % results.best_params_)\n",
    "    # summarize all\n",
    "    means = results.cv_results_['mean_test_score']\n",
    "    params = results.cv_results_['params']\n",
    "    for mean, param in zip(means, params):\n",
    "        print(\">%.3f with: %r\" % (mean, param))\n",
    "\n",
    "    #kernel = 1.0 * RBF([1.0])\n",
    "    #kernel = 1*DotProduct()\n",
    "    #gpc = GaussianProcessClassifier(kernel=kernel).fit(X, y)\n",
    "    #gpc.score(X, y)"
   ]
  },
  {
   "cell_type": "code",
   "execution_count": 12,
   "metadata": {},
   "outputs": [],
   "source": [
    "def GP_learn(X, y):\n",
    "    # define model\n",
    "    model = GaussianProcessClassifier()\n",
    "    kernel = 1*RationalQuadratic(alpha=1, length_scale=1)\n",
    "    gpc = GaussianProcessClassifier(kernel=kernel).fit(X, y)\n",
    "    score = gpc.score(X, y)\n",
    "    return score"
   ]
  },
  {
   "cell_type": "code",
   "execution_count": 171,
   "metadata": {},
   "outputs": [],
   "source": [
    "X,y=generate_prob_sample_df(df, 10, 0.5)"
   ]
  },
  {
   "cell_type": "code",
   "execution_count": 159,
   "metadata": {},
   "outputs": [
    {
     "name": "stdout",
     "output_type": "stream",
     "text": [
      "Best Mean Accuracy: 0.272\n",
      "Best Config: {'kernel': 1**2 * RBF(length_scale=1)}\n",
      ">0.272 with: {'kernel': 1**2 * RBF(length_scale=1)}\n",
      ">0.100 with: {'kernel': 1**2 * DotProduct(sigma_0=1)}\n",
      ">0.119 with: {'kernel': 1**2 * Matern(length_scale=1, nu=1.5)}\n",
      ">0.186 with: {'kernel': 1**2 * RationalQuadratic(alpha=1, length_scale=1)}\n",
      ">0.014 with: {'kernel': 1**2 * WhiteKernel(noise_level=1)}\n"
     ]
    }
   ],
   "source": [
    "GP_cv_learn(X,y)"
   ]
  },
  {
   "cell_type": "code",
   "execution_count": 16,
   "metadata": {},
   "outputs": [],
   "source": [
    "X,y=generate_prob_df(df)"
   ]
  },
  {
   "cell_type": "code",
   "execution_count": 17,
   "metadata": {},
   "outputs": [
    {
     "name": "stdout",
     "output_type": "stream",
     "text": [
      "Index(['0', 'CacheUChic', 'CacheFNAL', 'OriginUNL', 'CacheUNL', 'OriginFNAL',\n",
      "       'CacheNYU', 'CacheSyracuse', 'CacheBNL', 'CacheSeattle',\n",
      "       ...\n",
      "       'SaltLakeRouter_Link10', 'SaltLakeRouter_Link7',\n",
      "       'SaltLakeRouter_Link36', 'SaltLakeRouter_Link34',\n",
      "       'SeattleRouter_Link10', 'SeattleRouter_Link0', 'SeattleRouter_Link8',\n",
      "       'SeattleRouter_Link11', 'SeattleRouter_Link24', 'OriginCal_Link22'],\n",
      "      dtype='object', length=140)\n"
     ]
    }
   ],
   "source": [
    "print(y)"
   ]
  },
  {
   "cell_type": "code",
   "execution_count": 20,
   "metadata": {},
   "outputs": [
    {
     "name": "stdout",
     "output_type": "stream",
     "text": [
      "0.10714285714285714\n"
     ]
    }
   ],
   "source": [
    "score = GP_learn(X,y)\n",
    "print(score)"
   ]
  },
  {
   "cell_type": "code",
   "execution_count": 22,
   "metadata": {},
   "outputs": [],
   "source": [
    "from sklearn.tree import DecisionTreeClassifier\n",
    "from sklearn.ensemble import RandomForestClassifier\n",
    "from sklearn.preprocessing import OneHotEncoder\n",
    "from sklearn import tree\n",
    "import sklearn\n",
    "import graphviz \n",
    "from sklearn.calibration import CalibratedClassifierCV"
   ]
  },
  {
   "cell_type": "code",
   "execution_count": 18,
   "metadata": {},
   "outputs": [],
   "source": [
    "clf_prob = DecisionTreeClassifier(max_depth = 20)\n",
    "clf_model=clf_prob.fit(X,y)"
   ]
  },
  {
   "cell_type": "code",
   "execution_count": 19,
   "metadata": {},
   "outputs": [
    {
     "name": "stdout",
     "output_type": "stream",
     "text": [
      "0.6142857142857143\n"
     ]
    }
   ],
   "source": [
    "score=clf_prob.score(X,y)\n",
    "print(score)"
   ]
  },
  {
   "cell_type": "code",
   "execution_count": 23,
   "metadata": {},
   "outputs": [],
   "source": [
    "clf_rf_prob = RandomForestClassifier(max_depth = 20)\n",
    "clf_rf_model=clf_rf_prob.fit(X,y)"
   ]
  },
  {
   "cell_type": "code",
   "execution_count": 24,
   "metadata": {},
   "outputs": [
    {
     "name": "stdout",
     "output_type": "stream",
     "text": [
      "0.6285714285714286\n"
     ]
    }
   ],
   "source": [
    "score=clf_rf_prob.score(X,y)\n",
    "print(score)"
   ]
  },
  {
   "cell_type": "code",
   "execution_count": 165,
   "metadata": {},
   "outputs": [],
   "source": [
    "from sklearn import svm"
   ]
  },
  {
   "cell_type": "code",
   "execution_count": 166,
   "metadata": {},
   "outputs": [],
   "source": [
    "linear_svc=svm.LinearSVC(random_state=0)\n",
    "lin_clf=linear_svc.fit(X, y)"
   ]
  },
  {
   "cell_type": "code",
   "execution_count": 167,
   "metadata": {},
   "outputs": [
    {
     "name": "stdout",
     "output_type": "stream",
     "text": [
      "0.7246376811594203\n"
     ]
    }
   ],
   "source": [
    "score=linear_svc.score(X,y)\n",
    "print(score)"
   ]
  },
  {
   "cell_type": "code",
   "execution_count": null,
   "metadata": {},
   "outputs": [],
   "source": []
  }
 ],
 "metadata": {
  "kernelspec": {
   "display_name": "Python 3",
   "language": "python",
   "name": "python3"
  },
  "language_info": {
   "codemirror_mode": {
    "name": "ipython",
    "version": 3
   },
   "file_extension": ".py",
   "mimetype": "text/x-python",
   "name": "python",
   "nbconvert_exporter": "python",
   "pygments_lexer": "ipython3",
   "version": "3.7.4"
  }
 },
 "nbformat": 4,
 "nbformat_minor": 2
}
